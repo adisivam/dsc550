{
 "cells": [
  {
   "cell_type": "markdown",
   "id": "3541a0f4",
   "metadata": {},
   "source": [
    "# Weeks 2 Exercises\n",
    "\n",
    "Name: Kesav Adithya Venkidusamy <br>\n",
    "Course: DSC550 - Data Mining <br>\n",
    "Instructor: Brett Werner <br>"
   ]
  },
  {
   "cell_type": "markdown",
   "id": "cab191fa",
   "metadata": {},
   "source": [
    "### Using a data set of your choice, write an introduction explaining the data set."
   ]
  },
  {
   "attachments": {},
   "cell_type": "markdown",
   "id": "a14f4294",
   "metadata": {},
   "source": [
    "As part of this week's assignment, I have considered the historical data of Dogecoin downloaded from Kaggle website. Dogecoin is a cryptocurrency created by software engineers Billy Markus and Jackson Palmer, who decided to create a payment system as a \"joke\", making fun of the wild speculation in cryptocurrencies at the time. It is eight largest cryptocurrency by market cap.\n",
    "\n",
    "The dataset contains the following fields. I have provided the description of each field along with the name.\n",
    "\n",
    "1. Date - Trading Date\n",
    "2. Open Price - Open price for the given day \n",
    "3. High Price - High price for the given day\n",
    "4. Low Price - Low price for the given day\n",
    "5. Close Price - Close price for the given day \n",
    "6. Volume - Volume trade for the given day\n"
   ]
  },
  {
   "cell_type": "markdown",
   "id": "2898216c",
   "metadata": {},
   "source": [
    "### Identify a question or question(s) that you would like to explore in your data set."
   ]
  },
  {
   "cell_type": "markdown",
   "id": "8bb221c8",
   "metadata": {},
   "source": [
    "As part of this exercise, we are going to analyze if investing in Dogecoin is suitable for investors. If it is suitable, what kind of investors (conservative, moderate or aggressive) can invest in this cryptocurrency"
   ]
  },
  {
   "cell_type": "markdown",
   "id": "9f65f883",
   "metadata": {},
   "source": [
    "### Data Wrangling"
   ]
  },
  {
   "cell_type": "code",
   "execution_count": 38,
   "id": "3608cbd3",
   "metadata": {},
   "outputs": [],
   "source": [
    "## Importing the libraries required for this assignment\n",
    "\n",
    "import pandas as pd\n",
    "import numpy as np"
   ]
  },
  {
   "cell_type": "markdown",
   "id": "562b8e7b",
   "metadata": {},
   "source": [
    "##### 1. Load the dataset as a Pandas data frame."
   ]
  },
  {
   "cell_type": "code",
   "execution_count": 39,
   "id": "90bf5efa",
   "metadata": {},
   "outputs": [],
   "source": [
    "## Import the CSV file having dogecoing historical data downloaded from Kaggle website into a dataframe \"doge_df\"\n",
    "\n",
    "doge_df = pd.read_csv(\"DOGE-USD.csv\")"
   ]
  },
  {
   "cell_type": "markdown",
   "id": "07b6c762",
   "metadata": {},
   "source": [
    "##### 2. Display the first ten rows of data."
   ]
  },
  {
   "cell_type": "code",
   "execution_count": 40,
   "id": "62390004",
   "metadata": {},
   "outputs": [
    {
     "data": {
      "text/html": [
       "<div>\n",
       "<style scoped>\n",
       "    .dataframe tbody tr th:only-of-type {\n",
       "        vertical-align: middle;\n",
       "    }\n",
       "\n",
       "    .dataframe tbody tr th {\n",
       "        vertical-align: top;\n",
       "    }\n",
       "\n",
       "    .dataframe thead th {\n",
       "        text-align: right;\n",
       "    }\n",
       "</style>\n",
       "<table border=\"1\" class=\"dataframe\">\n",
       "  <thead>\n",
       "    <tr style=\"text-align: right;\">\n",
       "      <th></th>\n",
       "      <th>Date</th>\n",
       "      <th>Open</th>\n",
       "      <th>High</th>\n",
       "      <th>Low</th>\n",
       "      <th>Close</th>\n",
       "      <th>Volume</th>\n",
       "    </tr>\n",
       "  </thead>\n",
       "  <tbody>\n",
       "    <tr>\n",
       "      <th>0</th>\n",
       "      <td>2017-11-09</td>\n",
       "      <td>0.001207</td>\n",
       "      <td>0.001415</td>\n",
       "      <td>0.001181</td>\n",
       "      <td>0.001415</td>\n",
       "      <td>6259550</td>\n",
       "    </tr>\n",
       "    <tr>\n",
       "      <th>1</th>\n",
       "      <td>2017-11-10</td>\n",
       "      <td>0.001421</td>\n",
       "      <td>0.001431</td>\n",
       "      <td>0.001125</td>\n",
       "      <td>0.001163</td>\n",
       "      <td>4246520</td>\n",
       "    </tr>\n",
       "    <tr>\n",
       "      <th>2</th>\n",
       "      <td>2017-11-11</td>\n",
       "      <td>0.001146</td>\n",
       "      <td>0.001257</td>\n",
       "      <td>0.001141</td>\n",
       "      <td>0.001201</td>\n",
       "      <td>2231080</td>\n",
       "    </tr>\n",
       "    <tr>\n",
       "      <th>3</th>\n",
       "      <td>2017-11-12</td>\n",
       "      <td>0.001189</td>\n",
       "      <td>0.001210</td>\n",
       "      <td>0.001002</td>\n",
       "      <td>0.001038</td>\n",
       "      <td>3288960</td>\n",
       "    </tr>\n",
       "    <tr>\n",
       "      <th>4</th>\n",
       "      <td>2017-11-13</td>\n",
       "      <td>0.001046</td>\n",
       "      <td>0.001212</td>\n",
       "      <td>0.001019</td>\n",
       "      <td>0.001211</td>\n",
       "      <td>2481270</td>\n",
       "    </tr>\n",
       "    <tr>\n",
       "      <th>5</th>\n",
       "      <td>2017-11-14</td>\n",
       "      <td>0.001201</td>\n",
       "      <td>0.001239</td>\n",
       "      <td>0.001131</td>\n",
       "      <td>0.001184</td>\n",
       "      <td>2660340</td>\n",
       "    </tr>\n",
       "    <tr>\n",
       "      <th>6</th>\n",
       "      <td>2017-11-15</td>\n",
       "      <td>0.001189</td>\n",
       "      <td>0.001351</td>\n",
       "      <td>0.001179</td>\n",
       "      <td>0.001339</td>\n",
       "      <td>2840180</td>\n",
       "    </tr>\n",
       "    <tr>\n",
       "      <th>7</th>\n",
       "      <td>2017-11-16</td>\n",
       "      <td>0.001348</td>\n",
       "      <td>0.001424</td>\n",
       "      <td>0.001286</td>\n",
       "      <td>0.001390</td>\n",
       "      <td>3423010</td>\n",
       "    </tr>\n",
       "    <tr>\n",
       "      <th>8</th>\n",
       "      <td>2017-11-17</td>\n",
       "      <td>0.001381</td>\n",
       "      <td>0.001394</td>\n",
       "      <td>0.001274</td>\n",
       "      <td>0.001313</td>\n",
       "      <td>2787480</td>\n",
       "    </tr>\n",
       "    <tr>\n",
       "      <th>9</th>\n",
       "      <td>2017-11-18</td>\n",
       "      <td>0.001308</td>\n",
       "      <td>0.001385</td>\n",
       "      <td>0.001254</td>\n",
       "      <td>0.001373</td>\n",
       "      <td>1648260</td>\n",
       "    </tr>\n",
       "  </tbody>\n",
       "</table>\n",
       "</div>"
      ],
      "text/plain": [
       "         Date      Open      High       Low     Close   Volume\n",
       "0  2017-11-09  0.001207  0.001415  0.001181  0.001415  6259550\n",
       "1  2017-11-10  0.001421  0.001431  0.001125  0.001163  4246520\n",
       "2  2017-11-11  0.001146  0.001257  0.001141  0.001201  2231080\n",
       "3  2017-11-12  0.001189  0.001210  0.001002  0.001038  3288960\n",
       "4  2017-11-13  0.001046  0.001212  0.001019  0.001211  2481270\n",
       "5  2017-11-14  0.001201  0.001239  0.001131  0.001184  2660340\n",
       "6  2017-11-15  0.001189  0.001351  0.001179  0.001339  2840180\n",
       "7  2017-11-16  0.001348  0.001424  0.001286  0.001390  3423010\n",
       "8  2017-11-17  0.001381  0.001394  0.001274  0.001313  2787480\n",
       "9  2017-11-18  0.001308  0.001385  0.001254  0.001373  1648260"
      ]
     },
     "execution_count": 40,
     "metadata": {},
     "output_type": "execute_result"
    }
   ],
   "source": [
    "## Using head command of dataframe to display the first 10 rows\n",
    "\n",
    "doge_df.head(10)"
   ]
  },
  {
   "cell_type": "markdown",
   "id": "08ab56f4",
   "metadata": {},
   "source": [
    "##### 3. Find the dimensions (number of rows and columns) in the data frame. What do these two numbers represent in the context of the data?"
   ]
  },
  {
   "cell_type": "code",
   "execution_count": 41,
   "id": "d7f88a85",
   "metadata": {},
   "outputs": [
    {
     "name": "stdout",
     "output_type": "stream",
     "text": [
      "The number of rows and columns present in dataframe: (1532, 6)\n"
     ]
    }
   ],
   "source": [
    "## Calculating the shape of the dataframe\n",
    "\n",
    "print(\"The number of rows and columns present in dataframe: {}\".format(doge_df.shape))"
   ]
  },
  {
   "cell_type": "markdown",
   "id": "1d99e0d7",
   "metadata": {},
   "source": [
    "The above 2 numbers represents the number of rows and columns present in the dataframe. In the above result, 1532 represents number of rows present in the dataframe and 6 represents the number of columns present in the dataframe."
   ]
  },
  {
   "cell_type": "markdown",
   "id": "69abd580",
   "metadata": {},
   "source": [
    "##### 4. Describing the dataframe to display the stats of the dataset"
   ]
  },
  {
   "cell_type": "code",
   "execution_count": 42,
   "id": "9c295211",
   "metadata": {},
   "outputs": [
    {
     "data": {
      "text/html": [
       "<div>\n",
       "<style scoped>\n",
       "    .dataframe tbody tr th:only-of-type {\n",
       "        vertical-align: middle;\n",
       "    }\n",
       "\n",
       "    .dataframe tbody tr th {\n",
       "        vertical-align: top;\n",
       "    }\n",
       "\n",
       "    .dataframe thead th {\n",
       "        text-align: right;\n",
       "    }\n",
       "</style>\n",
       "<table border=\"1\" class=\"dataframe\">\n",
       "  <thead>\n",
       "    <tr style=\"text-align: right;\">\n",
       "      <th></th>\n",
       "      <th>Open</th>\n",
       "      <th>High</th>\n",
       "      <th>Low</th>\n",
       "      <th>Close</th>\n",
       "      <th>Volume</th>\n",
       "    </tr>\n",
       "  </thead>\n",
       "  <tbody>\n",
       "    <tr>\n",
       "      <th>count</th>\n",
       "      <td>1532.000000</td>\n",
       "      <td>1532.000000</td>\n",
       "      <td>1532.000000</td>\n",
       "      <td>1532.000000</td>\n",
       "      <td>1.532000e+03</td>\n",
       "    </tr>\n",
       "    <tr>\n",
       "      <th>mean</th>\n",
       "      <td>0.053032</td>\n",
       "      <td>0.056574</td>\n",
       "      <td>0.049593</td>\n",
       "      <td>0.053151</td>\n",
       "      <td>1.049954e+09</td>\n",
       "    </tr>\n",
       "    <tr>\n",
       "      <th>std</th>\n",
       "      <td>0.106257</td>\n",
       "      <td>0.114770</td>\n",
       "      <td>0.097944</td>\n",
       "      <td>0.106358</td>\n",
       "      <td>3.809881e+09</td>\n",
       "    </tr>\n",
       "    <tr>\n",
       "      <th>min</th>\n",
       "      <td>0.001046</td>\n",
       "      <td>0.001210</td>\n",
       "      <td>0.001002</td>\n",
       "      <td>0.001038</td>\n",
       "      <td>1.431720e+06</td>\n",
       "    </tr>\n",
       "    <tr>\n",
       "      <th>25%</th>\n",
       "      <td>0.002494</td>\n",
       "      <td>0.002551</td>\n",
       "      <td>0.002430</td>\n",
       "      <td>0.002495</td>\n",
       "      <td>1.965492e+07</td>\n",
       "    </tr>\n",
       "    <tr>\n",
       "      <th>50%</th>\n",
       "      <td>0.003161</td>\n",
       "      <td>0.003260</td>\n",
       "      <td>0.003059</td>\n",
       "      <td>0.003162</td>\n",
       "      <td>6.806869e+07</td>\n",
       "    </tr>\n",
       "    <tr>\n",
       "      <th>75%</th>\n",
       "      <td>0.009115</td>\n",
       "      <td>0.009615</td>\n",
       "      <td>0.008515</td>\n",
       "      <td>0.009195</td>\n",
       "      <td>2.837324e+08</td>\n",
       "    </tr>\n",
       "    <tr>\n",
       "      <th>max</th>\n",
       "      <td>0.687801</td>\n",
       "      <td>0.737567</td>\n",
       "      <td>0.608168</td>\n",
       "      <td>0.684777</td>\n",
       "      <td>6.941068e+10</td>\n",
       "    </tr>\n",
       "  </tbody>\n",
       "</table>\n",
       "</div>"
      ],
      "text/plain": [
       "              Open         High          Low        Close        Volume\n",
       "count  1532.000000  1532.000000  1532.000000  1532.000000  1.532000e+03\n",
       "mean      0.053032     0.056574     0.049593     0.053151  1.049954e+09\n",
       "std       0.106257     0.114770     0.097944     0.106358  3.809881e+09\n",
       "min       0.001046     0.001210     0.001002     0.001038  1.431720e+06\n",
       "25%       0.002494     0.002551     0.002430     0.002495  1.965492e+07\n",
       "50%       0.003161     0.003260     0.003059     0.003162  6.806869e+07\n",
       "75%       0.009115     0.009615     0.008515     0.009195  2.837324e+08\n",
       "max       0.687801     0.737567     0.608168     0.684777  6.941068e+10"
      ]
     },
     "execution_count": 42,
     "metadata": {},
     "output_type": "execute_result"
    }
   ],
   "source": [
    "## Describe function of dataframe will display the stats for the fields present in the dataframe\n",
    "\n",
    "doge_df.describe()"
   ]
  },
  {
   "cell_type": "markdown",
   "id": "2e569f70",
   "metadata": {},
   "source": [
    "##### 5. Converting the datatype of date field present in the dataframe"
   ]
  },
  {
   "cell_type": "code",
   "execution_count": 43,
   "id": "659552a1",
   "metadata": {},
   "outputs": [],
   "source": [
    "## Coverting the Trading date field to date datatype\n",
    "\n",
    "doge_df['Date'] = pd.to_datetime(doge_df['Date'], format='%Y-%m-%d')"
   ]
  },
  {
   "cell_type": "code",
   "execution_count": 44,
   "id": "b2e5f79b",
   "metadata": {},
   "outputs": [
    {
     "data": {
      "text/plain": [
       "Date      datetime64[ns]\n",
       "Open             float64\n",
       "High             float64\n",
       "Low              float64\n",
       "Close            float64\n",
       "Volume             int64\n",
       "dtype: object"
      ]
     },
     "execution_count": 44,
     "metadata": {},
     "output_type": "execute_result"
    }
   ],
   "source": [
    "## Printing the datatypes for all the columns present in the dataframe\n",
    "\n",
    "doge_df.dtypes"
   ]
  },
  {
   "cell_type": "markdown",
   "id": "89ae8c25",
   "metadata": {},
   "source": [
    "##### Step 6: Identify outliers and bad data"
   ]
  },
  {
   "cell_type": "code",
   "execution_count": 45,
   "id": "f08bd07e",
   "metadata": {},
   "outputs": [
    {
     "name": "stdout",
     "output_type": "stream",
     "text": [
      "Number of Null values in Trading_date: 0\n",
      "Number of Null values in Open Price: 0\n",
      "Number of Null values in High Price: 0\n",
      "Number of Null values in Low Price: 0\n",
      "Number of Null values in Close Price: 0\n",
      "Number of Null values in Volume: 0\n"
     ]
    }
   ],
   "source": [
    "## First we will check if there are any null values present in any of the column which we have selected for the analysis\n",
    "\n",
    "print(\"Number of Null values in Trading_date: {}\".format(doge_df.Date.isnull().sum()))\n",
    "print(\"Number of Null values in Open Price: {}\".format(doge_df.Open.isnull().sum()))\n",
    "print(\"Number of Null values in High Price: {}\".format(doge_df.High.isnull().sum()))\n",
    "print(\"Number of Null values in Low Price: {}\".format(doge_df.Low.isnull().sum()))\n",
    "print(\"Number of Null values in Close Price: {}\".format(doge_df.Close.isnull().sum()))\n",
    "print(\"Number of Null values in Volume: {}\".format(doge_df.Volume.isnull().sum()))"
   ]
  },
  {
   "cell_type": "code",
   "execution_count": 46,
   "id": "a377e30b",
   "metadata": {},
   "outputs": [
    {
     "data": {
      "text/html": [
       "<div>\n",
       "<style scoped>\n",
       "    .dataframe tbody tr th:only-of-type {\n",
       "        vertical-align: middle;\n",
       "    }\n",
       "\n",
       "    .dataframe tbody tr th {\n",
       "        vertical-align: top;\n",
       "    }\n",
       "\n",
       "    .dataframe thead th {\n",
       "        text-align: right;\n",
       "    }\n",
       "</style>\n",
       "<table border=\"1\" class=\"dataframe\">\n",
       "  <thead>\n",
       "    <tr style=\"text-align: right;\">\n",
       "      <th></th>\n",
       "      <th>Date</th>\n",
       "    </tr>\n",
       "  </thead>\n",
       "  <tbody>\n",
       "    <tr>\n",
       "      <th>min</th>\n",
       "      <td>2017-11-09</td>\n",
       "    </tr>\n",
       "    <tr>\n",
       "      <th>max</th>\n",
       "      <td>2022-01-18</td>\n",
       "    </tr>\n",
       "  </tbody>\n",
       "</table>\n",
       "</div>"
      ],
      "text/plain": [
       "          Date\n",
       "min 2017-11-09\n",
       "max 2022-01-18"
      ]
     },
     "execution_count": 46,
     "metadata": {},
     "output_type": "execute_result"
    }
   ],
   "source": [
    "## Now we are going to see the min and max date for each cryptocurrency\n",
    "\n",
    "result = doge_df.agg({'Date': ['min', 'max']})\n",
    "result"
   ]
  },
  {
   "cell_type": "markdown",
   "id": "dd218c9a",
   "metadata": {},
   "source": [
    "##### Step 7: Adding additional fields required for visualization"
   ]
  },
  {
   "cell_type": "code",
   "execution_count": 47,
   "id": "94bb1927",
   "metadata": {},
   "outputs": [
    {
     "data": {
      "text/html": [
       "<div>\n",
       "<style scoped>\n",
       "    .dataframe tbody tr th:only-of-type {\n",
       "        vertical-align: middle;\n",
       "    }\n",
       "\n",
       "    .dataframe tbody tr th {\n",
       "        vertical-align: top;\n",
       "    }\n",
       "\n",
       "    .dataframe thead th {\n",
       "        text-align: right;\n",
       "    }\n",
       "</style>\n",
       "<table border=\"1\" class=\"dataframe\">\n",
       "  <thead>\n",
       "    <tr style=\"text-align: right;\">\n",
       "      <th></th>\n",
       "      <th>Date</th>\n",
       "      <th>Open</th>\n",
       "      <th>High</th>\n",
       "      <th>Low</th>\n",
       "      <th>Close</th>\n",
       "      <th>Volume</th>\n",
       "      <th>Month_Year</th>\n",
       "    </tr>\n",
       "  </thead>\n",
       "  <tbody>\n",
       "    <tr>\n",
       "      <th>0</th>\n",
       "      <td>2017-11-09</td>\n",
       "      <td>0.001207</td>\n",
       "      <td>0.001415</td>\n",
       "      <td>0.001181</td>\n",
       "      <td>0.001415</td>\n",
       "      <td>6259550</td>\n",
       "      <td>2017-11</td>\n",
       "    </tr>\n",
       "    <tr>\n",
       "      <th>1</th>\n",
       "      <td>2017-11-10</td>\n",
       "      <td>0.001421</td>\n",
       "      <td>0.001431</td>\n",
       "      <td>0.001125</td>\n",
       "      <td>0.001163</td>\n",
       "      <td>4246520</td>\n",
       "      <td>2017-11</td>\n",
       "    </tr>\n",
       "    <tr>\n",
       "      <th>2</th>\n",
       "      <td>2017-11-11</td>\n",
       "      <td>0.001146</td>\n",
       "      <td>0.001257</td>\n",
       "      <td>0.001141</td>\n",
       "      <td>0.001201</td>\n",
       "      <td>2231080</td>\n",
       "      <td>2017-11</td>\n",
       "    </tr>\n",
       "    <tr>\n",
       "      <th>3</th>\n",
       "      <td>2017-11-12</td>\n",
       "      <td>0.001189</td>\n",
       "      <td>0.001210</td>\n",
       "      <td>0.001002</td>\n",
       "      <td>0.001038</td>\n",
       "      <td>3288960</td>\n",
       "      <td>2017-11</td>\n",
       "    </tr>\n",
       "    <tr>\n",
       "      <th>4</th>\n",
       "      <td>2017-11-13</td>\n",
       "      <td>0.001046</td>\n",
       "      <td>0.001212</td>\n",
       "      <td>0.001019</td>\n",
       "      <td>0.001211</td>\n",
       "      <td>2481270</td>\n",
       "      <td>2017-11</td>\n",
       "    </tr>\n",
       "  </tbody>\n",
       "</table>\n",
       "</div>"
      ],
      "text/plain": [
       "        Date      Open      High       Low     Close   Volume Month_Year\n",
       "0 2017-11-09  0.001207  0.001415  0.001181  0.001415  6259550    2017-11\n",
       "1 2017-11-10  0.001421  0.001431  0.001125  0.001163  4246520    2017-11\n",
       "2 2017-11-11  0.001146  0.001257  0.001141  0.001201  2231080    2017-11\n",
       "3 2017-11-12  0.001189  0.001210  0.001002  0.001038  3288960    2017-11\n",
       "4 2017-11-13  0.001046  0.001212  0.001019  0.001211  2481270    2017-11"
      ]
     },
     "execution_count": 47,
     "metadata": {},
     "output_type": "execute_result"
    }
   ],
   "source": [
    "## Using the existing fields, the below fields need to be added to the dataset which might be useful for analysis\n",
    "## 1. Percentage increase or decrease for the day --> Calculated by close price - open price / open price\n",
    "## 2. Month and year --> Derived by Trading date field present in the dataset\n",
    "## 3. Percentage of Price fluctuation for the day --> Calculated by (high price - low price)/ low price\n",
    "\n",
    "## As a first step, we will be adding Month_Year field to the dataframe\n",
    "\n",
    "doge_df['Month_Year'] = pd.to_datetime(doge_df['Date']).dt.to_period('M')\n",
    "doge_df.head()"
   ]
  },
  {
   "cell_type": "code",
   "execution_count": 48,
   "id": "2b19af29",
   "metadata": {},
   "outputs": [
    {
     "data": {
      "text/html": [
       "<div>\n",
       "<style scoped>\n",
       "    .dataframe tbody tr th:only-of-type {\n",
       "        vertical-align: middle;\n",
       "    }\n",
       "\n",
       "    .dataframe tbody tr th {\n",
       "        vertical-align: top;\n",
       "    }\n",
       "\n",
       "    .dataframe thead th {\n",
       "        text-align: right;\n",
       "    }\n",
       "</style>\n",
       "<table border=\"1\" class=\"dataframe\">\n",
       "  <thead>\n",
       "    <tr style=\"text-align: right;\">\n",
       "      <th></th>\n",
       "      <th>Date</th>\n",
       "      <th>Open</th>\n",
       "      <th>High</th>\n",
       "      <th>Low</th>\n",
       "      <th>Close</th>\n",
       "      <th>Volume</th>\n",
       "      <th>Month_Year</th>\n",
       "      <th>price_percent_day</th>\n",
       "      <th>price_fluctuation_day</th>\n",
       "    </tr>\n",
       "  </thead>\n",
       "  <tbody>\n",
       "    <tr>\n",
       "      <th>0</th>\n",
       "      <td>2017-11-09</td>\n",
       "      <td>0.001207</td>\n",
       "      <td>0.001415</td>\n",
       "      <td>0.001181</td>\n",
       "      <td>0.001415</td>\n",
       "      <td>6259550</td>\n",
       "      <td>2017-11</td>\n",
       "      <td>17.23</td>\n",
       "      <td>19.81</td>\n",
       "    </tr>\n",
       "    <tr>\n",
       "      <th>1</th>\n",
       "      <td>2017-11-10</td>\n",
       "      <td>0.001421</td>\n",
       "      <td>0.001431</td>\n",
       "      <td>0.001125</td>\n",
       "      <td>0.001163</td>\n",
       "      <td>4246520</td>\n",
       "      <td>2017-11</td>\n",
       "      <td>-18.16</td>\n",
       "      <td>27.20</td>\n",
       "    </tr>\n",
       "    <tr>\n",
       "      <th>2</th>\n",
       "      <td>2017-11-11</td>\n",
       "      <td>0.001146</td>\n",
       "      <td>0.001257</td>\n",
       "      <td>0.001141</td>\n",
       "      <td>0.001201</td>\n",
       "      <td>2231080</td>\n",
       "      <td>2017-11</td>\n",
       "      <td>4.80</td>\n",
       "      <td>10.17</td>\n",
       "    </tr>\n",
       "    <tr>\n",
       "      <th>3</th>\n",
       "      <td>2017-11-12</td>\n",
       "      <td>0.001189</td>\n",
       "      <td>0.001210</td>\n",
       "      <td>0.001002</td>\n",
       "      <td>0.001038</td>\n",
       "      <td>3288960</td>\n",
       "      <td>2017-11</td>\n",
       "      <td>-12.70</td>\n",
       "      <td>20.76</td>\n",
       "    </tr>\n",
       "    <tr>\n",
       "      <th>4</th>\n",
       "      <td>2017-11-13</td>\n",
       "      <td>0.001046</td>\n",
       "      <td>0.001212</td>\n",
       "      <td>0.001019</td>\n",
       "      <td>0.001211</td>\n",
       "      <td>2481270</td>\n",
       "      <td>2017-11</td>\n",
       "      <td>15.77</td>\n",
       "      <td>18.94</td>\n",
       "    </tr>\n",
       "  </tbody>\n",
       "</table>\n",
       "</div>"
      ],
      "text/plain": [
       "        Date      Open      High       Low     Close   Volume Month_Year  \\\n",
       "0 2017-11-09  0.001207  0.001415  0.001181  0.001415  6259550    2017-11   \n",
       "1 2017-11-10  0.001421  0.001431  0.001125  0.001163  4246520    2017-11   \n",
       "2 2017-11-11  0.001146  0.001257  0.001141  0.001201  2231080    2017-11   \n",
       "3 2017-11-12  0.001189  0.001210  0.001002  0.001038  3288960    2017-11   \n",
       "4 2017-11-13  0.001046  0.001212  0.001019  0.001211  2481270    2017-11   \n",
       "\n",
       "   price_percent_day  price_fluctuation_day  \n",
       "0              17.23                  19.81  \n",
       "1             -18.16                  27.20  \n",
       "2               4.80                  10.17  \n",
       "3             -12.70                  20.76  \n",
       "4              15.77                  18.94  "
      ]
     },
     "execution_count": 48,
     "metadata": {},
     "output_type": "execute_result"
    }
   ],
   "source": [
    "## Adding percentage of price increase and decrease and  Percentage of Price fluctuation for the day fields to the dataframe\n",
    "\n",
    "doge_df['price_percent_day'] = ((doge_df['Close'] - doge_df['Open']) / doge_df['Open']) * 100\n",
    "doge_df['price_fluctuation_day'] = ((doge_df['High'] - doge_df['Low']) / doge_df['Low']) * 100\n",
    "\n",
    "doge_df['price_percent_day'] = doge_df['price_percent_day'].apply(lambda x:round(x,2))\n",
    "doge_df['price_fluctuation_day'] = doge_df['price_fluctuation_day'].apply(lambda x:round(x,2))\n",
    "\n",
    "doge_df.head()"
   ]
  },
  {
   "cell_type": "markdown",
   "id": "b969ceb4",
   "metadata": {},
   "source": [
    "### Create at least three graphs that help answer these questions. Make sure your graphs are clearly readable and are labeled appropriately and professionally."
   ]
  },
  {
   "cell_type": "markdown",
   "id": "ff00a364",
   "metadata": {},
   "source": [
    "##### Histogram Chart"
   ]
  },
  {
   "cell_type": "code",
   "execution_count": 49,
   "id": "5d7b37a6",
   "metadata": {},
   "outputs": [],
   "source": [
    "import pylab as pl"
   ]
  },
  {
   "cell_type": "code",
   "execution_count": 50,
   "id": "55eee0fd",
   "metadata": {},
   "outputs": [
    {
     "data": {
      "text/plain": [
       "Text(0.5, 0.98, 'Dogecoin Close Price Histogram')"
      ]
     },
     "execution_count": 50,
     "metadata": {},
     "output_type": "execute_result"
    },
    {
     "data": {
      "image/png": "[encoded data removed]",
      "text/plain": [
       "<Figure size 864x504 with 1 Axes>"
      ]
     },
     "metadata": {},
     "output_type": "display_data"
    }
   ],
   "source": [
    "## Histograms and line chart to analyze the closing price for dogecoin\n",
    "## Creating histograms for closing price for dogecoin\n",
    "\n",
    "doge_df.hist(column='Close',figsize=[12,7], bins=15)\n",
    "pl.suptitle(\"Dogecoin Close Price Histogram\")"
   ]
  },
  {
   "cell_type": "markdown",
   "id": "d307fdac",
   "metadata": {},
   "source": [
    "From the histogram created for closing price of Dogecoin shown above, we could clearly understand the chart is positively skewed."
   ]
  },
  {
   "cell_type": "markdown",
   "id": "0682470b",
   "metadata": {},
   "source": [
    "##### Candlestick Chart"
   ]
  },
  {
   "cell_type": "code",
   "execution_count": 51,
   "id": "54ef9d94",
   "metadata": {},
   "outputs": [],
   "source": [
    "## Plotting candlestick charts for dogecoin\n",
    "## To plot candlestick chart, we will use mplfinance library\n",
    "## After installing mplfinance lib, candlestick_ohlc module needs to be imported\n",
    "\n",
    "import matplotlib.pyplot as plt\n",
    "from mplfinance.original_flavor import candlestick_ohlc\n",
    "import pandas as pd\n",
    "import matplotlib.dates as mpdates"
   ]
  },
  {
   "cell_type": "code",
   "execution_count": 52,
   "id": "213f9969",
   "metadata": {},
   "outputs": [],
   "source": [
    "## Defining the style to be used for the plot\n",
    "\n",
    "plt.style.use('seaborn-darkgrid')"
   ]
  },
  {
   "cell_type": "code",
   "execution_count": 53,
   "id": "36b14c5d",
   "metadata": {},
   "outputs": [
    {
     "data": {
      "image/png": "[encoded data removed]",
      "text/plain": [
       "<Figure size 1080x216 with 1 Axes>"
      ]
     },
     "metadata": {},
     "output_type": "display_data"
    }
   ],
   "source": [
    "## Extracting the data for major cryptocurrencies given in the below link and create candlestick chart\n",
    "# Extracting Data required for plotting\n",
    "\n",
    "df = doge_df.loc[:, ['Date', 'Open', 'High', 'Low', 'Close']]\n",
    "df['Date'] = mpdates.date2num(df['Date'])\n",
    "    \n",
    "# creating Subplots\n",
    "fig, ax = plt.subplots()\n",
    "\n",
    "fig.set_figheight(3)\n",
    "fig.set_figwidth(15)\n",
    " \n",
    "# plotting the data\n",
    "candlestick_ohlc(ax, df.values, width = 1,\n",
    "                 colorup = 'green', colordown = 'red',\n",
    "                 alpha = 0.8)\n",
    " \n",
    "# allow grid\n",
    "ax.grid(True)\n",
    " \n",
    "# Setting labels\n",
    "ax.set_xlabel('Date')\n",
    "ax.set_ylabel('Price')\n",
    " \n",
    "# setting title\n",
    "plt.title('Dogecoin Candlestick Chart')\n",
    " \n",
    "# Formatting Date\n",
    "date_format = mpdates.DateFormatter('%m-%d-%Y')\n",
    "ax.xaxis.set_major_formatter(date_format)\n",
    "fig.autofmt_xdate()\n",
    " \n",
    "# show the plot\n",
    "plt.show()"
   ]
  },
  {
   "cell_type": "markdown",
   "id": "c9fb8f88",
   "metadata": {},
   "source": [
    "##### Bar Chart"
   ]
  },
  {
   "cell_type": "code",
   "execution_count": 71,
   "id": "3f4687ef",
   "metadata": {},
   "outputs": [
    {
     "data": {
      "image/png": "[encoded data removed]",
      "text/plain": [
       "<Figure size 432x288 with 1 Axes>"
      ]
     },
     "metadata": {},
     "output_type": "display_data"
    }
   ],
   "source": [
    "## Creating the bar chart for price fluctuation percentage for dogecoin\n",
    "\n",
    "fig = plt.figure()\n",
    "ax = fig.add_axes([0,0,1,1])\n",
    "ax.bar(doge_df.Date, doge_df.price_fluctuation_day)\n",
    "\n",
    "ax.set_xlabel('Date')\n",
    "ax.set_ylabel('Price Fluctuation %')\n",
    "ax.set_title('Dogecoin Price Fluctuation Percentage')\n",
    "\n",
    "plt.show()"
   ]
  },
  {
   "cell_type": "code",
   "execution_count": 73,
   "id": "23ee70d7",
   "metadata": {},
   "outputs": [
    {
     "data": {
      "image/png": "[encoded data removed]",
      "text/plain": [
       "<Figure size 432x288 with 1 Axes>"
      ]
     },
     "metadata": {},
     "output_type": "display_data"
    }
   ],
   "source": [
    "## Creating the bar chart for price percentage increase/decrease for dogecoin\n",
    "\n",
    "fig = plt.figure()\n",
    "ax = fig.add_axes([0,0,1,1])\n",
    "ax.bar(doge_df.Date, doge_df.price_percent_day)\n",
    "\n",
    "ax.set_xlabel('Date')\n",
    "ax.set_ylabel('Price % Day')\n",
    "ax.set_title('Dogecoin Price Percentage/Day')\n",
    "\n",
    "plt.show()"
   ]
  },
  {
   "cell_type": "markdown",
   "id": "f3402486",
   "metadata": {},
   "source": [
    "##### Line charts"
   ]
  },
  {
   "cell_type": "code",
   "execution_count": 62,
   "id": "774172d1",
   "metadata": {},
   "outputs": [
    {
     "data": {
      "text/plain": [
       "Text(0.5, 1.0, 'Dogecoin Price Fluctuation Percentage Chart')"
      ]
     },
     "execution_count": 62,
     "metadata": {},
     "output_type": "execute_result"
    },
    {
     "data": {
      "image/png": "[encoded data removed]",
      "text/plain": [
       "<Figure size 1080x216 with 1 Axes>"
      ]
     },
     "metadata": {},
     "output_type": "display_data"
    }
   ],
   "source": [
    "## Creating the line chart for price fluctuation percentage for dogecoin\n",
    "\n",
    "import warnings\n",
    "warnings.filterwarnings(\"ignore\")\n",
    "fig,ax = plt.subplots()\n",
    "\n",
    "fig.set_figheight(3)\n",
    "fig.set_figwidth(15)\n",
    "\n",
    "ax.plot(doge_df.Date, doge_df.price_fluctuation_day, label='Dogecoin')\n",
    "\n",
    "ax.set_xlabel(\"Date\")\n",
    "ax.set_ylabel(\"Price Fluctuation Percentage\")\n",
    "ax.legend(loc='upper left')\n",
    "\n",
    "plt.title('Dogecoin Price Fluctuation Percentage Chart')"
   ]
  },
  {
   "cell_type": "code",
   "execution_count": 61,
   "id": "d5ae578d",
   "metadata": {},
   "outputs": [
    {
     "data": {
      "text/plain": [
       "Text(0.5, 1.0, 'Dogecoin Price Percentage Day Chart')"
      ]
     },
     "execution_count": 61,
     "metadata": {},
     "output_type": "execute_result"
    },
    {
     "data": {
      "image/png": "[encoded data removed]",
      "text/plain": [
       "<Figure size 1080x216 with 1 Axes>"
      ]
     },
     "metadata": {},
     "output_type": "display_data"
    }
   ],
   "source": [
    "## Creating the line chart for price percentage for dogecoin\n",
    "## Plot individual lines with custom colors, styles, and widths\n",
    "\n",
    "import warnings\n",
    "warnings.filterwarnings(\"ignore\")\n",
    "fig,ax = plt.subplots()\n",
    "\n",
    "fig.set_figheight(3)\n",
    "fig.set_figwidth(15)\n",
    "\n",
    "\n",
    "ax.plot(doge_df.Date, doge_df.price_percent_day, label='Dogecoin')\n",
    "\n",
    "ax.set_xlabel(\"Date\")\n",
    "ax.set_ylabel(\"Price Percentage Day\")\n",
    "ax.legend(loc='upper left')\n",
    "\n",
    "plt.title('Dogecoin Price Percentage Day Chart')"
   ]
  },
  {
   "cell_type": "code",
   "execution_count": 64,
   "id": "7ef25efd",
   "metadata": {},
   "outputs": [
    {
     "data": {
      "text/plain": [
       "[<matplotlib.lines.Line2D at 0x2e1bac53e20>]"
      ]
     },
     "execution_count": 64,
     "metadata": {},
     "output_type": "execute_result"
    },
    {
     "data": {
      "image/png": "[encoded data removed]",
      "text/plain": [
       "<Figure size 1080x216 with 1 Axes>"
      ]
     },
     "metadata": {},
     "output_type": "display_data"
    }
   ],
   "source": [
    "## Line chart for the closing price of dogecoin\n",
    "\n",
    "df = doge_df.loc[:, ['Date', 'Open', 'High', 'Low', 'Close']]\n",
    "df['Date'] = mpdates.date2num(df['Date'])\n",
    "    \n",
    "# creating Subplots\n",
    "fig, ax = plt.subplots()\n",
    "\n",
    "fig.set_figheight(3)\n",
    "fig.set_figwidth(15)\n",
    "\n",
    "# allow grid\n",
    "ax.grid(True)\n",
    " \n",
    "# Setting labels\n",
    "ax.set_xlabel('Date')\n",
    "ax.set_ylabel('Price')\n",
    " \n",
    "# setting title\n",
    "plt.title('Dogecoin Close Price Line Chart')\n",
    " \n",
    "# Formatting Date\n",
    "date_format = mpdates.DateFormatter('%m-%d-%Y')\n",
    "ax.xaxis.set_major_formatter(date_format)\n",
    "fig.autofmt_xdate()\n",
    "\n",
    "plt.plot(doge_df.Date, doge_df.Close, label='Dogecoin')"
   ]
  },
  {
   "cell_type": "code",
   "execution_count": 67,
   "id": "627a73de",
   "metadata": {},
   "outputs": [
    {
     "data": {
      "text/plain": [
       "[<matplotlib.lines.Line2D at 0x2e1bac01850>]"
      ]
     },
     "execution_count": 67,
     "metadata": {},
     "output_type": "execute_result"
    },
    {
     "data": {
      "image/png": "[encoded data removed]",
      "text/plain": [
       "<Figure size 1080x216 with 1 Axes>"
      ]
     },
     "metadata": {},
     "output_type": "display_data"
    }
   ],
   "source": [
    "## Line chart for the volume price of dogecoin\n",
    "# creating Subplots\n",
    "fig, ax = plt.subplots()\n",
    "\n",
    "fig.set_figheight(3)\n",
    "fig.set_figwidth(15)\n",
    "\n",
    "# allow grid\n",
    "ax.grid(True)\n",
    " \n",
    "# Setting labels\n",
    "ax.set_xlabel('Date')\n",
    "ax.set_ylabel('Volume')\n",
    " \n",
    "# setting title\n",
    "plt.title('Dogecoin Volume Line Chart')\n",
    " \n",
    "# Formatting Date\n",
    "date_format = mpdates.DateFormatter('%m-%d-%Y')\n",
    "ax.xaxis.set_major_formatter(date_format)\n",
    "fig.autofmt_xdate()\n",
    "\n",
    "plt.plot(doge_df.Date, doge_df.Volume, label='Dogecoin')"
   ]
  },
  {
   "cell_type": "markdown",
   "id": "2770e5a6",
   "metadata": {},
   "source": [
    "### Explain what you have learned from each of your graphs."
   ]
  },
  {
   "cell_type": "markdown",
   "id": "5eb78355",
   "metadata": {},
   "source": [
    "Histogram:<br>\n",
    "From histogram created based on closing price of each day, we see see the chart is postively skewed. Positive skew refers to a longer or fatter tail on the right. The mean is greater than the median as the data is more towards the lower side and the mean average of all the values, whereas the median is the middle value of the data. So, if the data is more bent towards the lower side, the average will be more than the middle value.\n",
    "\n",
    "Candle Stick Chart:<br>\n",
    "Candlestick charts are used by traders to determine possible price movement based on past patterns. Candlesticks are useful when trading as they show four price points (open, close, high, and low) throughout the period of time the trader specifies. From the chart, I see the candles after April Month of 2020 are long enough which depicts the price fluctuation is very high which is unsuitable for conservative and moderate investors.\n",
    "\n",
    "Bar Graph:<br>\n",
    "From the given dataset, I calculated increase/decrease in price percentage and price fluctuation percentage for a day using below formaula and used these field to plot bar charts.\n",
    "\n",
    "price percentage/day = (Close Price/ Open Price) * (Open Price) * 100 <br>\n",
    "price fluctuation/day = (High Price/ Low Price) * (Low Price) * 100\n",
    "\n",
    "From the chart, it is clearly understood that both price percentage and price fluctuation percentage varies a lot. For couple of days, the price has increased more than 100% on both positive and negative sides which makes unsuitable for conservative and moderate investors. Even the aggressive investors who wants to loose all their money can only invest in Dogecoin.\n",
    "\n",
    "Line Chart:<br>\n",
    "Finally, I tried to plot line charts for closing price and volume for each day. From the chart, I see the closing price of this cryptocurrency was around 0 till 2020. At the same time, the trading volumn for this cryptocurrency is also very less till 2020. Starting 2021, the closing price and volume started going exponentially which makes unsuitable for investors. The investors who bought this cryptocurrency in the mid of 2021 where the price was very high suffered a huge loss."
   ]
  },
  {
   "cell_type": "markdown",
   "id": "a6b912a6",
   "metadata": {},
   "source": [
    "### Write a conclusion that summarizes your findings."
   ]
  },
  {
   "attachments": {},
   "cell_type": "markdown",
   "id": "3edc88be",
   "metadata": {},
   "source": [
    "Based on the analysis and the charts that I plotted, I conclude that investing in dogecoin is <b>Speculative investment</b>. The price fluctuation and increase/decrease make this cryptocurrency <b>unsuitable for conservative and moderate investors</b>. As mentioned earlier, the aggressive investors should also calculate their risk tolerance before investing in this cryptocurrency. The people should invest in this cryptocurrency which they want to <b>lose everything</b>. There may be a chance that it could continue to grow, but it’s a risky chance to take. So, Investing in dogecoin is not a good idea and might not be good investment for investors."
   ]
  },
  {
   "cell_type": "code",
   "execution_count": null,
   "id": "a814de74",
   "metadata": {},
   "outputs": [],
   "source": []
  }
 ],
 "metadata": {
  "kernelspec": {
   "display_name": "Python 3",
   "language": "python",
   "name": "python3"
  },
  "language_info": {
   "codemirror_mode": {
    "name": "ipython",
    "version": 3
   },
   "file_extension": ".py",
   "mimetype": "text/x-python",
   "name": "python",
   "nbconvert_exporter": "python",
   "pygments_lexer": "ipython3",
   "version": "3.8.8"
  }
 },
 "nbformat": 4,
 "nbformat_minor": 5
}
