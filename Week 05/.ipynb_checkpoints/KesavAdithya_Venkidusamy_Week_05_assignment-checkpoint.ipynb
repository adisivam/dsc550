{
 "cells": [
  {
   "cell_type": "markdown",
   "id": "3541a0f4",
   "metadata": {},
   "source": [
    "# Weeks 5 Exercises\n",
    "\n",
    "Name: Kesav Adithya Venkidusamy <br>\n",
    "Course: DSC550 - Data Mining <br>\n",
    "Instructor: Brett Werner <br>"
   ]
  },
  {
   "cell_type": "markdown",
   "id": "cab191fa",
   "metadata": {},
   "source": [
    "### Build your own sentimental Analysis"
   ]
  },
  {
   "cell_type": "markdown",
   "id": "d2cf586d",
   "metadata": {},
   "source": [
    "You will build a model with the movie reviews dataset that you worked with in Week 3: Bag of Words Meets Bags of Popcorn. "
   ]
  },
  {
   "cell_type": "markdown",
   "id": "2898216c",
   "metadata": {},
   "source": [
    "#### 1. Get the stemmed data using the same process you did in Week 3."
   ]
  },
  {
   "cell_type": "code",
   "execution_count": 3,
   "id": "3608cbd3",
   "metadata": {},
   "outputs": [],
   "source": [
    "## Importing the libraries required for this assignment\n",
    "\n",
    "import pandas as pd\n",
    "import numpy as np\n",
    "from textblob import TextBlob\n",
    "import re"
   ]
  },
  {
   "cell_type": "code",
   "execution_count": 4,
   "id": "90bf5efa",
   "metadata": {},
   "outputs": [],
   "source": [
    "## Import the csv file having movie review data into dataframe\n",
    "\n",
    "movie_df = pd.read_csv('labeledTrainData.tsv',sep = '\\t') "
   ]
  },
  {
   "cell_type": "code",
   "execution_count": 5,
   "id": "62390004",
   "metadata": {},
   "outputs": [
    {
     "data": {
      "text/html": [
       "<div>\n",
       "<style scoped>\n",
       "    .dataframe tbody tr th:only-of-type {\n",
       "        vertical-align: middle;\n",
       "    }\n",
       "\n",
       "    .dataframe tbody tr th {\n",
       "        vertical-align: top;\n",
       "    }\n",
       "\n",
       "    .dataframe thead th {\n",
       "        text-align: right;\n",
       "    }\n",
       "</style>\n",
       "<table border=\"1\" class=\"dataframe\">\n",
       "  <thead>\n",
       "    <tr style=\"text-align: right;\">\n",
       "      <th></th>\n",
       "      <th>id</th>\n",
       "      <th>sentiment</th>\n",
       "      <th>review</th>\n",
       "    </tr>\n",
       "  </thead>\n",
       "  <tbody>\n",
       "    <tr>\n",
       "      <th>0</th>\n",
       "      <td>5814_8</td>\n",
       "      <td>1</td>\n",
       "      <td>With all this stuff going down at the moment w...</td>\n",
       "    </tr>\n",
       "    <tr>\n",
       "      <th>1</th>\n",
       "      <td>2381_9</td>\n",
       "      <td>1</td>\n",
       "      <td>\\The Classic War of the Worlds\\\" by Timothy Hi...</td>\n",
       "    </tr>\n",
       "    <tr>\n",
       "      <th>2</th>\n",
       "      <td>7759_3</td>\n",
       "      <td>0</td>\n",
       "      <td>The film starts with a manager (Nicholas Bell)...</td>\n",
       "    </tr>\n",
       "    <tr>\n",
       "      <th>3</th>\n",
       "      <td>3630_4</td>\n",
       "      <td>0</td>\n",
       "      <td>It must be assumed that those who praised this...</td>\n",
       "    </tr>\n",
       "    <tr>\n",
       "      <th>4</th>\n",
       "      <td>9495_8</td>\n",
       "      <td>1</td>\n",
       "      <td>Superbly trashy and wondrously unpretentious 8...</td>\n",
       "    </tr>\n",
       "  </tbody>\n",
       "</table>\n",
       "</div>"
      ],
      "text/plain": [
       "       id  sentiment                                             review\n",
       "0  5814_8          1  With all this stuff going down at the moment w...\n",
       "1  2381_9          1  \\The Classic War of the Worlds\\\" by Timothy Hi...\n",
       "2  7759_3          0  The film starts with a manager (Nicholas Bell)...\n",
       "3  3630_4          0  It must be assumed that those who praised this...\n",
       "4  9495_8          1  Superbly trashy and wondrously unpretentious 8..."
      ]
     },
     "execution_count": 5,
     "metadata": {},
     "output_type": "execute_result"
    }
   ],
   "source": [
    "## Display few records in dataframe using head command\n",
    "\n",
    "movie_df.head()"
   ]
  },
  {
   "cell_type": "code",
   "execution_count": 6,
   "id": "354c3251",
   "metadata": {},
   "outputs": [
    {
     "name": "stdout",
     "output_type": "stream",
     "text": [
      "Total number of rows and columns: (25000, 3)\n"
     ]
    }
   ],
   "source": [
    "## Calculating total number of rows and columns using shape command\n",
    "\n",
    "print(\"Total number of rows and columns: {}\".format(movie_df.shape))"
   ]
  },
  {
   "cell_type": "code",
   "execution_count": 7,
   "id": "439d418d",
   "metadata": {},
   "outputs": [
    {
     "data": {
      "text/html": [
       "<div>\n",
       "<style scoped>\n",
       "    .dataframe tbody tr th:only-of-type {\n",
       "        vertical-align: middle;\n",
       "    }\n",
       "\n",
       "    .dataframe tbody tr th {\n",
       "        vertical-align: top;\n",
       "    }\n",
       "\n",
       "    .dataframe thead th {\n",
       "        text-align: right;\n",
       "    }\n",
       "</style>\n",
       "<table border=\"1\" class=\"dataframe\">\n",
       "  <thead>\n",
       "    <tr style=\"text-align: right;\">\n",
       "      <th></th>\n",
       "      <th>id</th>\n",
       "      <th>sentiment</th>\n",
       "      <th>review</th>\n",
       "      <th>polarity</th>\n",
       "      <th>subjectivity</th>\n",
       "    </tr>\n",
       "  </thead>\n",
       "  <tbody>\n",
       "    <tr>\n",
       "      <th>0</th>\n",
       "      <td>5814_8</td>\n",
       "      <td>1</td>\n",
       "      <td>With all this stuff going down at the moment w...</td>\n",
       "      <td>0.001277</td>\n",
       "      <td>0.606746</td>\n",
       "    </tr>\n",
       "    <tr>\n",
       "      <th>1</th>\n",
       "      <td>2381_9</td>\n",
       "      <td>1</td>\n",
       "      <td>\\The Classic War of the Worlds\\\" by Timothy Hi...</td>\n",
       "      <td>0.256349</td>\n",
       "      <td>0.531111</td>\n",
       "    </tr>\n",
       "    <tr>\n",
       "      <th>2</th>\n",
       "      <td>7759_3</td>\n",
       "      <td>0</td>\n",
       "      <td>The film starts with a manager (Nicholas Bell)...</td>\n",
       "      <td>-0.053941</td>\n",
       "      <td>0.562933</td>\n",
       "    </tr>\n",
       "    <tr>\n",
       "      <th>3</th>\n",
       "      <td>3630_4</td>\n",
       "      <td>0</td>\n",
       "      <td>It must be assumed that those who praised this...</td>\n",
       "      <td>0.134753</td>\n",
       "      <td>0.492901</td>\n",
       "    </tr>\n",
       "    <tr>\n",
       "      <th>4</th>\n",
       "      <td>9495_8</td>\n",
       "      <td>1</td>\n",
       "      <td>Superbly trashy and wondrously unpretentious 8...</td>\n",
       "      <td>-0.024842</td>\n",
       "      <td>0.459818</td>\n",
       "    </tr>\n",
       "  </tbody>\n",
       "</table>\n",
       "</div>"
      ],
      "text/plain": [
       "       id  sentiment                                             review  \\\n",
       "0  5814_8          1  With all this stuff going down at the moment w...   \n",
       "1  2381_9          1  \\The Classic War of the Worlds\\\" by Timothy Hi...   \n",
       "2  7759_3          0  The film starts with a manager (Nicholas Bell)...   \n",
       "3  3630_4          0  It must be assumed that those who praised this...   \n",
       "4  9495_8          1  Superbly trashy and wondrously unpretentious 8...   \n",
       "\n",
       "   polarity  subjectivity  \n",
       "0  0.001277      0.606746  \n",
       "1  0.256349      0.531111  \n",
       "2 -0.053941      0.562933  \n",
       "3  0.134753      0.492901  \n",
       "4 -0.024842      0.459818  "
      ]
     },
     "execution_count": 7,
     "metadata": {},
     "output_type": "execute_result"
    }
   ],
   "source": [
    "## Classify each movie review as positive or negative \n",
    "## (assuming polarity greater than 0 is positive sentiment, and less than 0 is negative sentiment)\n",
    "\n",
    "movie_df[['polarity', 'subjectivity']] = movie_df['review'].apply(lambda Text: pd.Series(TextBlob(Text).sentiment))\n",
    "movie_df.head(5)"
   ]
  },
  {
   "cell_type": "code",
   "execution_count": 8,
   "id": "98b725de",
   "metadata": {},
   "outputs": [
    {
     "data": {
      "text/html": [
       "<div>\n",
       "<style scoped>\n",
       "    .dataframe tbody tr th:only-of-type {\n",
       "        vertical-align: middle;\n",
       "    }\n",
       "\n",
       "    .dataframe tbody tr th {\n",
       "        vertical-align: top;\n",
       "    }\n",
       "\n",
       "    .dataframe thead th {\n",
       "        text-align: right;\n",
       "    }\n",
       "</style>\n",
       "<table border=\"1\" class=\"dataframe\">\n",
       "  <thead>\n",
       "    <tr style=\"text-align: right;\">\n",
       "      <th></th>\n",
       "      <th>id</th>\n",
       "      <th>sentiment</th>\n",
       "      <th>review</th>\n",
       "      <th>polarity</th>\n",
       "      <th>subjectivity</th>\n",
       "      <th>textblob_score</th>\n",
       "    </tr>\n",
       "  </thead>\n",
       "  <tbody>\n",
       "    <tr>\n",
       "      <th>0</th>\n",
       "      <td>5814_8</td>\n",
       "      <td>1</td>\n",
       "      <td>With all this stuff going down at the moment w...</td>\n",
       "      <td>0.001277</td>\n",
       "      <td>0.606746</td>\n",
       "      <td>1</td>\n",
       "    </tr>\n",
       "    <tr>\n",
       "      <th>1</th>\n",
       "      <td>2381_9</td>\n",
       "      <td>1</td>\n",
       "      <td>\\The Classic War of the Worlds\\\" by Timothy Hi...</td>\n",
       "      <td>0.256349</td>\n",
       "      <td>0.531111</td>\n",
       "      <td>1</td>\n",
       "    </tr>\n",
       "    <tr>\n",
       "      <th>2</th>\n",
       "      <td>7759_3</td>\n",
       "      <td>0</td>\n",
       "      <td>The film starts with a manager (Nicholas Bell)...</td>\n",
       "      <td>-0.053941</td>\n",
       "      <td>0.562933</td>\n",
       "      <td>0</td>\n",
       "    </tr>\n",
       "    <tr>\n",
       "      <th>3</th>\n",
       "      <td>3630_4</td>\n",
       "      <td>0</td>\n",
       "      <td>It must be assumed that those who praised this...</td>\n",
       "      <td>0.134753</td>\n",
       "      <td>0.492901</td>\n",
       "      <td>1</td>\n",
       "    </tr>\n",
       "    <tr>\n",
       "      <th>4</th>\n",
       "      <td>9495_8</td>\n",
       "      <td>1</td>\n",
       "      <td>Superbly trashy and wondrously unpretentious 8...</td>\n",
       "      <td>-0.024842</td>\n",
       "      <td>0.459818</td>\n",
       "      <td>0</td>\n",
       "    </tr>\n",
       "  </tbody>\n",
       "</table>\n",
       "</div>"
      ],
      "text/plain": [
       "       id  sentiment                                             review  \\\n",
       "0  5814_8          1  With all this stuff going down at the moment w...   \n",
       "1  2381_9          1  \\The Classic War of the Worlds\\\" by Timothy Hi...   \n",
       "2  7759_3          0  The film starts with a manager (Nicholas Bell)...   \n",
       "3  3630_4          0  It must be assumed that those who praised this...   \n",
       "4  9495_8          1  Superbly trashy and wondrously unpretentious 8...   \n",
       "\n",
       "   polarity  subjectivity  textblob_score  \n",
       "0  0.001277      0.606746               1  \n",
       "1  0.256349      0.531111               1  \n",
       "2 -0.053941      0.562933               0  \n",
       "3  0.134753      0.492901               1  \n",
       "4 -0.024842      0.459818               0  "
      ]
     },
     "execution_count": 8,
     "metadata": {},
     "output_type": "execute_result"
    }
   ],
   "source": [
    "## Create textblob_score column based on the polarity column\n",
    "\n",
    "movie_df['textblob_score'] = movie_df['polarity'].apply(lambda x: 1 if x > 0 else 0)\n",
    "movie_df.head(5)"
   ]
  },
  {
   "cell_type": "code",
   "execution_count": 9,
   "id": "c38b5484",
   "metadata": {},
   "outputs": [],
   "source": [
    "## Creating a function for cleaning the text\n",
    "## This function gets the input sentence and convert it to lower and remove punctuation\n",
    "def text_clean(sentence):\n",
    "    \n",
    "    sentence = sentence.lower() ## Convert the text to lower \n",
    "    sentence = re.sub(r'[^\\w\\s]+|_', '',sentence) ## Remove all non-numeric characters\n",
    "    sentence = re.sub(r'\\s\\s', ' ',sentence) ## Removing extra space\n",
    "    \n",
    "    return sentence"
   ]
  },
  {
   "cell_type": "code",
   "execution_count": 10,
   "id": "70ce1e41",
   "metadata": {},
   "outputs": [
    {
     "data": {
      "text/html": [
       "<div>\n",
       "<style scoped>\n",
       "    .dataframe tbody tr th:only-of-type {\n",
       "        vertical-align: middle;\n",
       "    }\n",
       "\n",
       "    .dataframe tbody tr th {\n",
       "        vertical-align: top;\n",
       "    }\n",
       "\n",
       "    .dataframe thead th {\n",
       "        text-align: right;\n",
       "    }\n",
       "</style>\n",
       "<table border=\"1\" class=\"dataframe\">\n",
       "  <thead>\n",
       "    <tr style=\"text-align: right;\">\n",
       "      <th></th>\n",
       "      <th>id</th>\n",
       "      <th>sentiment</th>\n",
       "      <th>review</th>\n",
       "      <th>polarity</th>\n",
       "      <th>subjectivity</th>\n",
       "      <th>textblob_score</th>\n",
       "      <th>review_clean</th>\n",
       "    </tr>\n",
       "  </thead>\n",
       "  <tbody>\n",
       "    <tr>\n",
       "      <th>0</th>\n",
       "      <td>5814_8</td>\n",
       "      <td>1</td>\n",
       "      <td>With all this stuff going down at the moment w...</td>\n",
       "      <td>0.001277</td>\n",
       "      <td>0.606746</td>\n",
       "      <td>1</td>\n",
       "      <td>with all this stuff going down at the moment w...</td>\n",
       "    </tr>\n",
       "    <tr>\n",
       "      <th>1</th>\n",
       "      <td>2381_9</td>\n",
       "      <td>1</td>\n",
       "      <td>\\The Classic War of the Worlds\\\" by Timothy Hi...</td>\n",
       "      <td>0.256349</td>\n",
       "      <td>0.531111</td>\n",
       "      <td>1</td>\n",
       "      <td>the classic war of the worlds by timothy hines...</td>\n",
       "    </tr>\n",
       "    <tr>\n",
       "      <th>2</th>\n",
       "      <td>7759_3</td>\n",
       "      <td>0</td>\n",
       "      <td>The film starts with a manager (Nicholas Bell)...</td>\n",
       "      <td>-0.053941</td>\n",
       "      <td>0.562933</td>\n",
       "      <td>0</td>\n",
       "      <td>the film starts with a manager nicholas bell g...</td>\n",
       "    </tr>\n",
       "    <tr>\n",
       "      <th>3</th>\n",
       "      <td>3630_4</td>\n",
       "      <td>0</td>\n",
       "      <td>It must be assumed that those who praised this...</td>\n",
       "      <td>0.134753</td>\n",
       "      <td>0.492901</td>\n",
       "      <td>1</td>\n",
       "      <td>it must be assumed that those who praised this...</td>\n",
       "    </tr>\n",
       "    <tr>\n",
       "      <th>4</th>\n",
       "      <td>9495_8</td>\n",
       "      <td>1</td>\n",
       "      <td>Superbly trashy and wondrously unpretentious 8...</td>\n",
       "      <td>-0.024842</td>\n",
       "      <td>0.459818</td>\n",
       "      <td>0</td>\n",
       "      <td>superbly trashy and wondrously unpretentious 8...</td>\n",
       "    </tr>\n",
       "  </tbody>\n",
       "</table>\n",
       "</div>"
      ],
      "text/plain": [
       "       id  sentiment                                             review  \\\n",
       "0  5814_8          1  With all this stuff going down at the moment w...   \n",
       "1  2381_9          1  \\The Classic War of the Worlds\\\" by Timothy Hi...   \n",
       "2  7759_3          0  The film starts with a manager (Nicholas Bell)...   \n",
       "3  3630_4          0  It must be assumed that those who praised this...   \n",
       "4  9495_8          1  Superbly trashy and wondrously unpretentious 8...   \n",
       "\n",
       "   polarity  subjectivity  textblob_score  \\\n",
       "0  0.001277      0.606746               1   \n",
       "1  0.256349      0.531111               1   \n",
       "2 -0.053941      0.562933               0   \n",
       "3  0.134753      0.492901               1   \n",
       "4 -0.024842      0.459818               0   \n",
       "\n",
       "                                        review_clean  \n",
       "0  with all this stuff going down at the moment w...  \n",
       "1  the classic war of the worlds by timothy hines...  \n",
       "2  the film starts with a manager nicholas bell g...  \n",
       "3  it must be assumed that those who praised this...  \n",
       "4  superbly trashy and wondrously unpretentious 8...  "
      ]
     },
     "execution_count": 10,
     "metadata": {},
     "output_type": "execute_result"
    }
   ],
   "source": [
    "## Coverting text present in the \"review\" column to lower case and printing few values using head command\n",
    "movie_df['review_clean'] = movie_df['review'].apply(text_clean)\n",
    "movie_df.head()"
   ]
  },
  {
   "cell_type": "code",
   "execution_count": 13,
   "id": "c57b915d",
   "metadata": {},
   "outputs": [
    {
     "name": "stderr",
     "output_type": "stream",
     "text": [
      "[nltk_data] Downloading package stopwords to\n",
      "[nltk_data]     C:\\Users\\KesavAdithya\\AppData\\Roaming\\nltk_data...\n",
      "[nltk_data]   Package stopwords is already up-to-date!\n",
      "[nltk_data] Downloading package punkt to\n",
      "[nltk_data]     C:\\Users\\KesavAdithya\\AppData\\Roaming\\nltk_data...\n",
      "[nltk_data]   Package punkt is already up-to-date!\n"
     ]
    }
   ],
   "source": [
    "## import nltk module and download stop words\n",
    "import nltk\n",
    "nltk.download('stopwords')\n",
    "nltk.download('punkt')\n",
    "from nltk.tokenize import word_tokenize"
   ]
  },
  {
   "cell_type": "code",
   "execution_count": 14,
   "id": "331e25ce",
   "metadata": {},
   "outputs": [
    {
     "data": {
      "text/html": [
       "<div>\n",
       "<style scoped>\n",
       "    .dataframe tbody tr th:only-of-type {\n",
       "        vertical-align: middle;\n",
       "    }\n",
       "\n",
       "    .dataframe tbody tr th {\n",
       "        vertical-align: top;\n",
       "    }\n",
       "\n",
       "    .dataframe thead th {\n",
       "        text-align: right;\n",
       "    }\n",
       "</style>\n",
       "<table border=\"1\" class=\"dataframe\">\n",
       "  <thead>\n",
       "    <tr style=\"text-align: right;\">\n",
       "      <th></th>\n",
       "      <th>id</th>\n",
       "      <th>sentiment</th>\n",
       "      <th>review</th>\n",
       "      <th>polarity</th>\n",
       "      <th>subjectivity</th>\n",
       "      <th>textblob_score</th>\n",
       "      <th>review_clean</th>\n",
       "      <th>review_token</th>\n",
       "    </tr>\n",
       "  </thead>\n",
       "  <tbody>\n",
       "    <tr>\n",
       "      <th>0</th>\n",
       "      <td>5814_8</td>\n",
       "      <td>1</td>\n",
       "      <td>With all this stuff going down at the moment w...</td>\n",
       "      <td>0.001277</td>\n",
       "      <td>0.606746</td>\n",
       "      <td>1</td>\n",
       "      <td>with all this stuff going down at the moment w...</td>\n",
       "      <td>[with, all, this, stuff, going, down, at, the,...</td>\n",
       "    </tr>\n",
       "    <tr>\n",
       "      <th>1</th>\n",
       "      <td>2381_9</td>\n",
       "      <td>1</td>\n",
       "      <td>\\The Classic War of the Worlds\\\" by Timothy Hi...</td>\n",
       "      <td>0.256349</td>\n",
       "      <td>0.531111</td>\n",
       "      <td>1</td>\n",
       "      <td>the classic war of the worlds by timothy hines...</td>\n",
       "      <td>[the, classic, war, of, the, worlds, by, timot...</td>\n",
       "    </tr>\n",
       "    <tr>\n",
       "      <th>2</th>\n",
       "      <td>7759_3</td>\n",
       "      <td>0</td>\n",
       "      <td>The film starts with a manager (Nicholas Bell)...</td>\n",
       "      <td>-0.053941</td>\n",
       "      <td>0.562933</td>\n",
       "      <td>0</td>\n",
       "      <td>the film starts with a manager nicholas bell g...</td>\n",
       "      <td>[the, film, starts, with, a, manager, nicholas...</td>\n",
       "    </tr>\n",
       "    <tr>\n",
       "      <th>3</th>\n",
       "      <td>3630_4</td>\n",
       "      <td>0</td>\n",
       "      <td>It must be assumed that those who praised this...</td>\n",
       "      <td>0.134753</td>\n",
       "      <td>0.492901</td>\n",
       "      <td>1</td>\n",
       "      <td>it must be assumed that those who praised this...</td>\n",
       "      <td>[it, must, be, assumed, that, those, who, prai...</td>\n",
       "    </tr>\n",
       "    <tr>\n",
       "      <th>4</th>\n",
       "      <td>9495_8</td>\n",
       "      <td>1</td>\n",
       "      <td>Superbly trashy and wondrously unpretentious 8...</td>\n",
       "      <td>-0.024842</td>\n",
       "      <td>0.459818</td>\n",
       "      <td>0</td>\n",
       "      <td>superbly trashy and wondrously unpretentious 8...</td>\n",
       "      <td>[superbly, trashy, and, wondrously, unpretenti...</td>\n",
       "    </tr>\n",
       "  </tbody>\n",
       "</table>\n",
       "</div>"
      ],
      "text/plain": [
       "       id  sentiment                                             review  \\\n",
       "0  5814_8          1  With all this stuff going down at the moment w...   \n",
       "1  2381_9          1  \\The Classic War of the Worlds\\\" by Timothy Hi...   \n",
       "2  7759_3          0  The film starts with a manager (Nicholas Bell)...   \n",
       "3  3630_4          0  It must be assumed that those who praised this...   \n",
       "4  9495_8          1  Superbly trashy and wondrously unpretentious 8...   \n",
       "\n",
       "   polarity  subjectivity  textblob_score  \\\n",
       "0  0.001277      0.606746               1   \n",
       "1  0.256349      0.531111               1   \n",
       "2 -0.053941      0.562933               0   \n",
       "3  0.134753      0.492901               1   \n",
       "4 -0.024842      0.459818               0   \n",
       "\n",
       "                                        review_clean  \\\n",
       "0  with all this stuff going down at the moment w...   \n",
       "1  the classic war of the worlds by timothy hines...   \n",
       "2  the film starts with a manager nicholas bell g...   \n",
       "3  it must be assumed that those who praised this...   \n",
       "4  superbly trashy and wondrously unpretentious 8...   \n",
       "\n",
       "                                        review_token  \n",
       "0  [with, all, this, stuff, going, down, at, the,...  \n",
       "1  [the, classic, war, of, the, worlds, by, timot...  \n",
       "2  [the, film, starts, with, a, manager, nicholas...  \n",
       "3  [it, must, be, assumed, that, those, who, prai...  \n",
       "4  [superbly, trashy, and, wondrously, unpretenti...  "
      ]
     },
     "execution_count": 14,
     "metadata": {},
     "output_type": "execute_result"
    }
   ],
   "source": [
    "## Create a new column and apply tokenize function\n",
    "\n",
    "def tokenize(text):\n",
    "    text = word_tokenize(text)\n",
    "    return text\n",
    "    \n",
    "movie_df['review_token'] = movie_df['review_clean'].apply(tokenize)\n",
    "movie_df.head()"
   ]
  },
  {
   "cell_type": "code",
   "execution_count": 15,
   "id": "23e38b66",
   "metadata": {},
   "outputs": [
    {
     "data": {
      "text/html": [
       "<div>\n",
       "<style scoped>\n",
       "    .dataframe tbody tr th:only-of-type {\n",
       "        vertical-align: middle;\n",
       "    }\n",
       "\n",
       "    .dataframe tbody tr th {\n",
       "        vertical-align: top;\n",
       "    }\n",
       "\n",
       "    .dataframe thead th {\n",
       "        text-align: right;\n",
       "    }\n",
       "</style>\n",
       "<table border=\"1\" class=\"dataframe\">\n",
       "  <thead>\n",
       "    <tr style=\"text-align: right;\">\n",
       "      <th></th>\n",
       "      <th>id</th>\n",
       "      <th>sentiment</th>\n",
       "      <th>review</th>\n",
       "      <th>polarity</th>\n",
       "      <th>subjectivity</th>\n",
       "      <th>textblob_score</th>\n",
       "      <th>review_clean</th>\n",
       "      <th>review_token</th>\n",
       "      <th>review_stop</th>\n",
       "    </tr>\n",
       "  </thead>\n",
       "  <tbody>\n",
       "    <tr>\n",
       "      <th>0</th>\n",
       "      <td>5814_8</td>\n",
       "      <td>1</td>\n",
       "      <td>With all this stuff going down at the moment w...</td>\n",
       "      <td>0.001277</td>\n",
       "      <td>0.606746</td>\n",
       "      <td>1</td>\n",
       "      <td>with all this stuff going down at the moment w...</td>\n",
       "      <td>[with, all, this, stuff, going, down, at, the,...</td>\n",
       "      <td>[stuff, going, moment, mj, ive, started, liste...</td>\n",
       "    </tr>\n",
       "    <tr>\n",
       "      <th>1</th>\n",
       "      <td>2381_9</td>\n",
       "      <td>1</td>\n",
       "      <td>\\The Classic War of the Worlds\\\" by Timothy Hi...</td>\n",
       "      <td>0.256349</td>\n",
       "      <td>0.531111</td>\n",
       "      <td>1</td>\n",
       "      <td>the classic war of the worlds by timothy hines...</td>\n",
       "      <td>[the, classic, war, of, the, worlds, by, timot...</td>\n",
       "      <td>[classic, war, worlds, timothy, hines, enterta...</td>\n",
       "    </tr>\n",
       "    <tr>\n",
       "      <th>2</th>\n",
       "      <td>7759_3</td>\n",
       "      <td>0</td>\n",
       "      <td>The film starts with a manager (Nicholas Bell)...</td>\n",
       "      <td>-0.053941</td>\n",
       "      <td>0.562933</td>\n",
       "      <td>0</td>\n",
       "      <td>the film starts with a manager nicholas bell g...</td>\n",
       "      <td>[the, film, starts, with, a, manager, nicholas...</td>\n",
       "      <td>[film, starts, manager, nicholas, bell, giving...</td>\n",
       "    </tr>\n",
       "    <tr>\n",
       "      <th>3</th>\n",
       "      <td>3630_4</td>\n",
       "      <td>0</td>\n",
       "      <td>It must be assumed that those who praised this...</td>\n",
       "      <td>0.134753</td>\n",
       "      <td>0.492901</td>\n",
       "      <td>1</td>\n",
       "      <td>it must be assumed that those who praised this...</td>\n",
       "      <td>[it, must, be, assumed, that, those, who, prai...</td>\n",
       "      <td>[must, assumed, praised, film, greatest, filme...</td>\n",
       "    </tr>\n",
       "    <tr>\n",
       "      <th>4</th>\n",
       "      <td>9495_8</td>\n",
       "      <td>1</td>\n",
       "      <td>Superbly trashy and wondrously unpretentious 8...</td>\n",
       "      <td>-0.024842</td>\n",
       "      <td>0.459818</td>\n",
       "      <td>0</td>\n",
       "      <td>superbly trashy and wondrously unpretentious 8...</td>\n",
       "      <td>[superbly, trashy, and, wondrously, unpretenti...</td>\n",
       "      <td>[superbly, trashy, wondrously, unpretentious, ...</td>\n",
       "    </tr>\n",
       "  </tbody>\n",
       "</table>\n",
       "</div>"
      ],
      "text/plain": [
       "       id  sentiment                                             review  \\\n",
       "0  5814_8          1  With all this stuff going down at the moment w...   \n",
       "1  2381_9          1  \\The Classic War of the Worlds\\\" by Timothy Hi...   \n",
       "2  7759_3          0  The film starts with a manager (Nicholas Bell)...   \n",
       "3  3630_4          0  It must be assumed that those who praised this...   \n",
       "4  9495_8          1  Superbly trashy and wondrously unpretentious 8...   \n",
       "\n",
       "   polarity  subjectivity  textblob_score  \\\n",
       "0  0.001277      0.606746               1   \n",
       "1  0.256349      0.531111               1   \n",
       "2 -0.053941      0.562933               0   \n",
       "3  0.134753      0.492901               1   \n",
       "4 -0.024842      0.459818               0   \n",
       "\n",
       "                                        review_clean  \\\n",
       "0  with all this stuff going down at the moment w...   \n",
       "1  the classic war of the worlds by timothy hines...   \n",
       "2  the film starts with a manager nicholas bell g...   \n",
       "3  it must be assumed that those who praised this...   \n",
       "4  superbly trashy and wondrously unpretentious 8...   \n",
       "\n",
       "                                        review_token  \\\n",
       "0  [with, all, this, stuff, going, down, at, the,...   \n",
       "1  [the, classic, war, of, the, worlds, by, timot...   \n",
       "2  [the, film, starts, with, a, manager, nicholas...   \n",
       "3  [it, must, be, assumed, that, those, who, prai...   \n",
       "4  [superbly, trashy, and, wondrously, unpretenti...   \n",
       "\n",
       "                                         review_stop  \n",
       "0  [stuff, going, moment, mj, ive, started, liste...  \n",
       "1  [classic, war, worlds, timothy, hines, enterta...  \n",
       "2  [film, starts, manager, nicholas, bell, giving...  \n",
       "3  [must, assumed, praised, film, greatest, filme...  \n",
       "4  [superbly, trashy, wondrously, unpretentious, ...  "
      ]
     },
     "execution_count": 15,
     "metadata": {},
     "output_type": "execute_result"
    }
   ],
   "source": [
    "# Exclude stopwords with Python's list comprehension and pandas using Dataframe apply\n",
    "from nltk.corpus import stopwords\n",
    "stop = stopwords.words('english')\n",
    "movie_df['review_stop'] = movie_df['review_token'].apply(lambda x: [word for word in x if word not in (stop)])\n",
    "movie_df.head()"
   ]
  },
  {
   "cell_type": "code",
   "execution_count": 16,
   "id": "ae77643b",
   "metadata": {},
   "outputs": [],
   "source": [
    "## Import the module required for PorterStemmer\n",
    "from nltk.stem import PorterStemmer\n",
    "porter_stemmer = PorterStemmer() #create porter_stemmer variable"
   ]
  },
  {
   "cell_type": "code",
   "execution_count": 17,
   "id": "c0ea15d9",
   "metadata": {},
   "outputs": [
    {
     "data": {
      "text/html": [
       "<div>\n",
       "<style scoped>\n",
       "    .dataframe tbody tr th:only-of-type {\n",
       "        vertical-align: middle;\n",
       "    }\n",
       "\n",
       "    .dataframe tbody tr th {\n",
       "        vertical-align: top;\n",
       "    }\n",
       "\n",
       "    .dataframe thead th {\n",
       "        text-align: right;\n",
       "    }\n",
       "</style>\n",
       "<table border=\"1\" class=\"dataframe\">\n",
       "  <thead>\n",
       "    <tr style=\"text-align: right;\">\n",
       "      <th></th>\n",
       "      <th>id</th>\n",
       "      <th>sentiment</th>\n",
       "      <th>review</th>\n",
       "      <th>polarity</th>\n",
       "      <th>subjectivity</th>\n",
       "      <th>textblob_score</th>\n",
       "      <th>review_clean</th>\n",
       "      <th>review_token</th>\n",
       "      <th>review_stop</th>\n",
       "      <th>review_stemmed</th>\n",
       "    </tr>\n",
       "  </thead>\n",
       "  <tbody>\n",
       "    <tr>\n",
       "      <th>0</th>\n",
       "      <td>5814_8</td>\n",
       "      <td>1</td>\n",
       "      <td>With all this stuff going down at the moment w...</td>\n",
       "      <td>0.001277</td>\n",
       "      <td>0.606746</td>\n",
       "      <td>1</td>\n",
       "      <td>with all this stuff going down at the moment w...</td>\n",
       "      <td>[with, all, this, stuff, going, down, at, the,...</td>\n",
       "      <td>[stuff, going, moment, mj, ive, started, liste...</td>\n",
       "      <td>[stuff, go, moment, mj, ive, start, listen, mu...</td>\n",
       "    </tr>\n",
       "    <tr>\n",
       "      <th>1</th>\n",
       "      <td>2381_9</td>\n",
       "      <td>1</td>\n",
       "      <td>\\The Classic War of the Worlds\\\" by Timothy Hi...</td>\n",
       "      <td>0.256349</td>\n",
       "      <td>0.531111</td>\n",
       "      <td>1</td>\n",
       "      <td>the classic war of the worlds by timothy hines...</td>\n",
       "      <td>[the, classic, war, of, the, worlds, by, timot...</td>\n",
       "      <td>[classic, war, worlds, timothy, hines, enterta...</td>\n",
       "      <td>[classic, war, world, timothi, hine, entertain...</td>\n",
       "    </tr>\n",
       "    <tr>\n",
       "      <th>2</th>\n",
       "      <td>7759_3</td>\n",
       "      <td>0</td>\n",
       "      <td>The film starts with a manager (Nicholas Bell)...</td>\n",
       "      <td>-0.053941</td>\n",
       "      <td>0.562933</td>\n",
       "      <td>0</td>\n",
       "      <td>the film starts with a manager nicholas bell g...</td>\n",
       "      <td>[the, film, starts, with, a, manager, nicholas...</td>\n",
       "      <td>[film, starts, manager, nicholas, bell, giving...</td>\n",
       "      <td>[film, start, manag, nichola, bell, give, welc...</td>\n",
       "    </tr>\n",
       "    <tr>\n",
       "      <th>3</th>\n",
       "      <td>3630_4</td>\n",
       "      <td>0</td>\n",
       "      <td>It must be assumed that those who praised this...</td>\n",
       "      <td>0.134753</td>\n",
       "      <td>0.492901</td>\n",
       "      <td>1</td>\n",
       "      <td>it must be assumed that those who praised this...</td>\n",
       "      <td>[it, must, be, assumed, that, those, who, prai...</td>\n",
       "      <td>[must, assumed, praised, film, greatest, filme...</td>\n",
       "      <td>[must, assum, prais, film, greatest, film, ope...</td>\n",
       "    </tr>\n",
       "    <tr>\n",
       "      <th>4</th>\n",
       "      <td>9495_8</td>\n",
       "      <td>1</td>\n",
       "      <td>Superbly trashy and wondrously unpretentious 8...</td>\n",
       "      <td>-0.024842</td>\n",
       "      <td>0.459818</td>\n",
       "      <td>0</td>\n",
       "      <td>superbly trashy and wondrously unpretentious 8...</td>\n",
       "      <td>[superbly, trashy, and, wondrously, unpretenti...</td>\n",
       "      <td>[superbly, trashy, wondrously, unpretentious, ...</td>\n",
       "      <td>[superbl, trashi, wondrous, unpretenti, 80, ex...</td>\n",
       "    </tr>\n",
       "  </tbody>\n",
       "</table>\n",
       "</div>"
      ],
      "text/plain": [
       "       id  sentiment                                             review  \\\n",
       "0  5814_8          1  With all this stuff going down at the moment w...   \n",
       "1  2381_9          1  \\The Classic War of the Worlds\\\" by Timothy Hi...   \n",
       "2  7759_3          0  The film starts with a manager (Nicholas Bell)...   \n",
       "3  3630_4          0  It must be assumed that those who praised this...   \n",
       "4  9495_8          1  Superbly trashy and wondrously unpretentious 8...   \n",
       "\n",
       "   polarity  subjectivity  textblob_score  \\\n",
       "0  0.001277      0.606746               1   \n",
       "1  0.256349      0.531111               1   \n",
       "2 -0.053941      0.562933               0   \n",
       "3  0.134753      0.492901               1   \n",
       "4 -0.024842      0.459818               0   \n",
       "\n",
       "                                        review_clean  \\\n",
       "0  with all this stuff going down at the moment w...   \n",
       "1  the classic war of the worlds by timothy hines...   \n",
       "2  the film starts with a manager nicholas bell g...   \n",
       "3  it must be assumed that those who praised this...   \n",
       "4  superbly trashy and wondrously unpretentious 8...   \n",
       "\n",
       "                                        review_token  \\\n",
       "0  [with, all, this, stuff, going, down, at, the,...   \n",
       "1  [the, classic, war, of, the, worlds, by, timot...   \n",
       "2  [the, film, starts, with, a, manager, nicholas...   \n",
       "3  [it, must, be, assumed, that, those, who, prai...   \n",
       "4  [superbly, trashy, and, wondrously, unpretenti...   \n",
       "\n",
       "                                         review_stop  \\\n",
       "0  [stuff, going, moment, mj, ive, started, liste...   \n",
       "1  [classic, war, worlds, timothy, hines, enterta...   \n",
       "2  [film, starts, manager, nicholas, bell, giving...   \n",
       "3  [must, assumed, praised, film, greatest, filme...   \n",
       "4  [superbly, trashy, wondrously, unpretentious, ...   \n",
       "\n",
       "                                      review_stemmed  \n",
       "0  [stuff, go, moment, mj, ive, start, listen, mu...  \n",
       "1  [classic, war, world, timothi, hine, entertain...  \n",
       "2  [film, start, manag, nichola, bell, give, welc...  \n",
       "3  [must, assum, prais, film, greatest, film, ope...  \n",
       "4  [superbl, trashi, wondrous, unpretenti, 80, ex...  "
      ]
     },
     "execution_count": 17,
     "metadata": {},
     "output_type": "execute_result"
    }
   ],
   "source": [
    "# Apply stemmer to the above tokenized column as follows\n",
    "movie_df['review_stemmed']=movie_df['review_stop'].apply(lambda x : [porter_stemmer.stem(y) for y in x])\n",
    "movie_df.head()"
   ]
  },
  {
   "cell_type": "code",
   "execution_count": 18,
   "id": "08983b29",
   "metadata": {},
   "outputs": [
    {
     "data": {
      "text/html": [
       "<div>\n",
       "<style scoped>\n",
       "    .dataframe tbody tr th:only-of-type {\n",
       "        vertical-align: middle;\n",
       "    }\n",
       "\n",
       "    .dataframe tbody tr th {\n",
       "        vertical-align: top;\n",
       "    }\n",
       "\n",
       "    .dataframe thead th {\n",
       "        text-align: right;\n",
       "    }\n",
       "</style>\n",
       "<table border=\"1\" class=\"dataframe\">\n",
       "  <thead>\n",
       "    <tr style=\"text-align: right;\">\n",
       "      <th></th>\n",
       "      <th>id</th>\n",
       "      <th>sentiment</th>\n",
       "      <th>review</th>\n",
       "      <th>polarity</th>\n",
       "      <th>subjectivity</th>\n",
       "      <th>textblob_score</th>\n",
       "      <th>review_clean</th>\n",
       "      <th>review_token</th>\n",
       "      <th>review_stop</th>\n",
       "      <th>review_stemmed</th>\n",
       "      <th>review_output</th>\n",
       "    </tr>\n",
       "  </thead>\n",
       "  <tbody>\n",
       "    <tr>\n",
       "      <th>0</th>\n",
       "      <td>5814_8</td>\n",
       "      <td>1</td>\n",
       "      <td>With all this stuff going down at the moment w...</td>\n",
       "      <td>0.001277</td>\n",
       "      <td>0.606746</td>\n",
       "      <td>1</td>\n",
       "      <td>with all this stuff going down at the moment w...</td>\n",
       "      <td>[with, all, this, stuff, going, down, at, the,...</td>\n",
       "      <td>[stuff, going, moment, mj, ive, started, liste...</td>\n",
       "      <td>[stuff, go, moment, mj, ive, start, listen, mu...</td>\n",
       "      <td>stuff go moment mj ive start listen music watc...</td>\n",
       "    </tr>\n",
       "    <tr>\n",
       "      <th>1</th>\n",
       "      <td>2381_9</td>\n",
       "      <td>1</td>\n",
       "      <td>\\The Classic War of the Worlds\\\" by Timothy Hi...</td>\n",
       "      <td>0.256349</td>\n",
       "      <td>0.531111</td>\n",
       "      <td>1</td>\n",
       "      <td>the classic war of the worlds by timothy hines...</td>\n",
       "      <td>[the, classic, war, of, the, worlds, by, timot...</td>\n",
       "      <td>[classic, war, worlds, timothy, hines, enterta...</td>\n",
       "      <td>[classic, war, world, timothi, hine, entertain...</td>\n",
       "      <td>classic war world timothi hine entertain film ...</td>\n",
       "    </tr>\n",
       "    <tr>\n",
       "      <th>2</th>\n",
       "      <td>7759_3</td>\n",
       "      <td>0</td>\n",
       "      <td>The film starts with a manager (Nicholas Bell)...</td>\n",
       "      <td>-0.053941</td>\n",
       "      <td>0.562933</td>\n",
       "      <td>0</td>\n",
       "      <td>the film starts with a manager nicholas bell g...</td>\n",
       "      <td>[the, film, starts, with, a, manager, nicholas...</td>\n",
       "      <td>[film, starts, manager, nicholas, bell, giving...</td>\n",
       "      <td>[film, start, manag, nichola, bell, give, welc...</td>\n",
       "      <td>film start manag nichola bell give welcom inve...</td>\n",
       "    </tr>\n",
       "    <tr>\n",
       "      <th>3</th>\n",
       "      <td>3630_4</td>\n",
       "      <td>0</td>\n",
       "      <td>It must be assumed that those who praised this...</td>\n",
       "      <td>0.134753</td>\n",
       "      <td>0.492901</td>\n",
       "      <td>1</td>\n",
       "      <td>it must be assumed that those who praised this...</td>\n",
       "      <td>[it, must, be, assumed, that, those, who, prai...</td>\n",
       "      <td>[must, assumed, praised, film, greatest, filme...</td>\n",
       "      <td>[must, assum, prais, film, greatest, film, ope...</td>\n",
       "      <td>must assum prais film greatest film opera ever...</td>\n",
       "    </tr>\n",
       "    <tr>\n",
       "      <th>4</th>\n",
       "      <td>9495_8</td>\n",
       "      <td>1</td>\n",
       "      <td>Superbly trashy and wondrously unpretentious 8...</td>\n",
       "      <td>-0.024842</td>\n",
       "      <td>0.459818</td>\n",
       "      <td>0</td>\n",
       "      <td>superbly trashy and wondrously unpretentious 8...</td>\n",
       "      <td>[superbly, trashy, and, wondrously, unpretenti...</td>\n",
       "      <td>[superbly, trashy, wondrously, unpretentious, ...</td>\n",
       "      <td>[superbl, trashi, wondrous, unpretenti, 80, ex...</td>\n",
       "      <td>superbl trashi wondrous unpretenti 80 exploit ...</td>\n",
       "    </tr>\n",
       "  </tbody>\n",
       "</table>\n",
       "</div>"
      ],
      "text/plain": [
       "       id  sentiment                                             review  \\\n",
       "0  5814_8          1  With all this stuff going down at the moment w...   \n",
       "1  2381_9          1  \\The Classic War of the Worlds\\\" by Timothy Hi...   \n",
       "2  7759_3          0  The film starts with a manager (Nicholas Bell)...   \n",
       "3  3630_4          0  It must be assumed that those who praised this...   \n",
       "4  9495_8          1  Superbly trashy and wondrously unpretentious 8...   \n",
       "\n",
       "   polarity  subjectivity  textblob_score  \\\n",
       "0  0.001277      0.606746               1   \n",
       "1  0.256349      0.531111               1   \n",
       "2 -0.053941      0.562933               0   \n",
       "3  0.134753      0.492901               1   \n",
       "4 -0.024842      0.459818               0   \n",
       "\n",
       "                                        review_clean  \\\n",
       "0  with all this stuff going down at the moment w...   \n",
       "1  the classic war of the worlds by timothy hines...   \n",
       "2  the film starts with a manager nicholas bell g...   \n",
       "3  it must be assumed that those who praised this...   \n",
       "4  superbly trashy and wondrously unpretentious 8...   \n",
       "\n",
       "                                        review_token  \\\n",
       "0  [with, all, this, stuff, going, down, at, the,...   \n",
       "1  [the, classic, war, of, the, worlds, by, timot...   \n",
       "2  [the, film, starts, with, a, manager, nicholas...   \n",
       "3  [it, must, be, assumed, that, those, who, prai...   \n",
       "4  [superbly, trashy, and, wondrously, unpretenti...   \n",
       "\n",
       "                                         review_stop  \\\n",
       "0  [stuff, going, moment, mj, ive, started, liste...   \n",
       "1  [classic, war, worlds, timothy, hines, enterta...   \n",
       "2  [film, starts, manager, nicholas, bell, giving...   \n",
       "3  [must, assumed, praised, film, greatest, filme...   \n",
       "4  [superbly, trashy, wondrously, unpretentious, ...   \n",
       "\n",
       "                                      review_stemmed  \\\n",
       "0  [stuff, go, moment, mj, ive, start, listen, mu...   \n",
       "1  [classic, war, world, timothi, hine, entertain...   \n",
       "2  [film, start, manag, nichola, bell, give, welc...   \n",
       "3  [must, assum, prais, film, greatest, film, ope...   \n",
       "4  [superbl, trashi, wondrous, unpretenti, 80, ex...   \n",
       "\n",
       "                                       review_output  \n",
       "0  stuff go moment mj ive start listen music watc...  \n",
       "1  classic war world timothi hine entertain film ...  \n",
       "2  film start manag nichola bell give welcom inve...  \n",
       "3  must assum prais film greatest film opera ever...  \n",
       "4  superbl trashi wondrous unpretenti 80 exploit ...  "
      ]
     },
     "execution_count": 18,
     "metadata": {},
     "output_type": "execute_result"
    }
   ],
   "source": [
    "## Creating a review_final and join all the words present in review_stemmed\n",
    "## Printing few values present in the dataframe using head command\n",
    "movie_df['review_output'] = movie_df['review_stemmed'].apply(lambda txt: ' '.join(txt))\n",
    "movie_df.head()"
   ]
  },
  {
   "cell_type": "code",
   "execution_count": 19,
   "id": "29754ae9",
   "metadata": {},
   "outputs": [
    {
     "data": {
      "text/plain": [
       "(25000, 11)"
      ]
     },
     "execution_count": 19,
     "metadata": {},
     "output_type": "execute_result"
    }
   ],
   "source": [
    "## Calculating the shape of the dataframe\n",
    "movie_df.shape"
   ]
  },
  {
   "cell_type": "code",
   "execution_count": 20,
   "id": "97aa7107",
   "metadata": {},
   "outputs": [
    {
     "data": {
      "text/plain": [
       "id                 object\n",
       "sentiment           int64\n",
       "review             object\n",
       "polarity          float64\n",
       "subjectivity      float64\n",
       "textblob_score      int64\n",
       "review_clean       object\n",
       "review_token       object\n",
       "review_stop        object\n",
       "review_stemmed     object\n",
       "review_output      object\n",
       "dtype: object"
      ]
     },
     "execution_count": 20,
     "metadata": {},
     "output_type": "execute_result"
    }
   ],
   "source": [
    "## Displaying the datatypes for each of the columns\n",
    "movie_df.dtypes"
   ]
  },
  {
   "cell_type": "markdown",
   "id": "08ab56f4",
   "metadata": {},
   "source": [
    "#### 2. Split this into a training and test set."
   ]
  },
  {
   "cell_type": "code",
   "execution_count": 21,
   "id": "af7cd1a2",
   "metadata": {},
   "outputs": [],
   "source": [
    "## Importing the required libraries for splitting the data\n",
    "from sklearn.model_selection import train_test_split #used to split data into training/test sets\n",
    "from sklearn.metrics import plot_confusion_matrix\n",
    "import warnings\n",
    "warnings.filterwarnings(\"ignore\")"
   ]
  },
  {
   "cell_type": "code",
   "execution_count": 22,
   "id": "d7f88a85",
   "metadata": {},
   "outputs": [],
   "source": [
    "## Split the data into a training and test set\n",
    "X = movie_df['review_output']\n",
    "\n",
    "## Get the target\n",
    "y = movie_df['sentiment']\n",
    "\n",
    "## Split the data into training and test sets (80% for Training and 20% for Test)\n",
    "X_train, X_test, y_train, y_test = train_test_split(X, y, test_size = 0.2)\n",
    "\n",
    "## Reset the indices in the training and test sets\n",
    "X_train = X_train.reset_index(drop = True) #drop + True drops the previous index\n",
    "X_test = X_test.reset_index(drop = True)\n",
    "y_train = y_train.reset_index(drop = True)\n",
    "y_test = y_test.reset_index(drop = True)"
   ]
  },
  {
   "cell_type": "code",
   "execution_count": 23,
   "id": "f42dcb28",
   "metadata": {},
   "outputs": [
    {
     "name": "stdout",
     "output_type": "stream",
     "text": [
      "(20000,)\n",
      "(5000,)\n",
      "0    10049\n",
      "1     9951\n",
      "Name: sentiment, dtype: int64\n",
      "1    2549\n",
      "0    2451\n",
      "Name: sentiment, dtype: int64\n"
     ]
    }
   ],
   "source": [
    "## Show the sizes of the training and test sets\n",
    "print(X_train.shape)\n",
    "print(X_test.shape)\n",
    "\n",
    "## Displaying the number of sentiments in training and test sets\n",
    "print(y_train.value_counts())\n",
    "print(y_test.value_counts())"
   ]
  },
  {
   "cell_type": "code",
   "execution_count": 24,
   "id": "3a04a8cf",
   "metadata": {},
   "outputs": [
    {
     "name": "stdout",
     "output_type": "stream",
     "text": [
      "0\n",
      "0\n"
     ]
    }
   ],
   "source": [
    "## Check if missing data is present in in the training and test sets\n",
    "print(X_train.isna().sum())\n",
    "print(X_test.isna().sum())"
   ]
  },
  {
   "cell_type": "markdown",
   "id": "f8ee6029",
   "metadata": {},
   "source": [
    "There is no missing data in training and test data"
   ]
  },
  {
   "cell_type": "markdown",
   "id": "c59ff0ba",
   "metadata": {},
   "source": [
    "##### 3. Fit and apply the tf-idf vectorization to the training set."
   ]
  },
  {
   "cell_type": "code",
   "execution_count": 25,
   "id": "f73f257f",
   "metadata": {},
   "outputs": [],
   "source": [
    "## Importing the library for tf-idf vectorization\n",
    "from sklearn.feature_extraction.text import TfidfVectorizer"
   ]
  },
  {
   "cell_type": "code",
   "execution_count": 26,
   "id": "2367ef0d",
   "metadata": {},
   "outputs": [],
   "source": [
    "# Create the tf-idf feature matrix\n",
    "tfidfs = TfidfVectorizer()\n",
    "x_train_vector = tfidfs.fit_transform(X_train)"
   ]
  },
  {
   "cell_type": "code",
   "execution_count": 27,
   "id": "400a2768",
   "metadata": {},
   "outputs": [
    {
     "data": {
      "text/plain": [
       "(20000, 80988)"
      ]
     },
     "execution_count": 27,
     "metadata": {},
     "output_type": "execute_result"
    }
   ],
   "source": [
    "## Displaying the the shape of the transformed X_train_vector\n",
    "x_train_vector.shape"
   ]
  },
  {
   "cell_type": "markdown",
   "id": "2747cdb2",
   "metadata": {},
   "source": [
    "#### 4. Apply but DO NOT FIT the tf-idf vectorization to the test set (Why?)."
   ]
  },
  {
   "cell_type": "code",
   "execution_count": 28,
   "id": "f57783b1",
   "metadata": {},
   "outputs": [],
   "source": [
    "## Only apply tf-ifd vectorization to the test set\n",
    "x_test_vector = tfidfs.transform(X_test)"
   ]
  },
  {
   "cell_type": "markdown",
   "id": "0c38b088",
   "metadata": {},
   "source": [
    "Reason:  You wouldn't want to fit the test set to the model because you'd have test data leaking into the model. "
   ]
  },
  {
   "cell_type": "markdown",
   "id": "6bbfe512",
   "metadata": {},
   "source": [
    "#### 5. Train a logistic regression using the training data."
   ]
  },
  {
   "cell_type": "code",
   "execution_count": 29,
   "id": "fecb69b6",
   "metadata": {},
   "outputs": [],
   "source": [
    "## Importing yellowbrick library and logisticregression libraries\n",
    "from sklearn.linear_model import LogisticRegression\n",
    "\n",
    "#import evaluation tools\n",
    "import yellowbrick\n",
    "from yellowbrick.classifier import ConfusionMatrix\n",
    "from yellowbrick.classifier import ClassificationReport\n",
    "from yellowbrick.classifier import ROCAUC"
   ]
  },
  {
   "cell_type": "code",
   "execution_count": null,
   "id": "498819bb",
   "metadata": {},
   "outputs": [],
   "source": []
  },
  {
   "cell_type": "code",
   "execution_count": null,
   "id": "0374a413",
   "metadata": {},
   "outputs": [],
   "source": []
  },
  {
   "cell_type": "code",
   "execution_count": null,
   "id": "4fd123c2",
   "metadata": {},
   "outputs": [],
   "source": []
  },
  {
   "cell_type": "code",
   "execution_count": null,
   "id": "df91836d",
   "metadata": {},
   "outputs": [],
   "source": []
  },
  {
   "cell_type": "code",
   "execution_count": 43,
   "id": "ba76b2f2",
   "metadata": {},
   "outputs": [
    {
     "ename": "NameError",
     "evalue": "name 'correlation_matrix' is not defined",
     "output_type": "error",
     "traceback": [
      "\u001b[1;31m---------------------------------------------------------------------------\u001b[0m",
      "\u001b[1;31mNameError\u001b[0m                                 Traceback (most recent call last)",
      "\u001b[1;32m<ipython-input-43-d3ee0539727f>\u001b[0m in \u001b[0;36m<module>\u001b[1;34m\u001b[0m\n\u001b[0;32m      1\u001b[0m \u001b[1;31m## Printing the correlation matrix as well\u001b[0m\u001b[1;33m\u001b[0m\u001b[1;33m\u001b[0m\u001b[1;33m\u001b[0m\u001b[0m\n\u001b[0;32m      2\u001b[0m \u001b[1;33m\u001b[0m\u001b[0m\n\u001b[1;32m----> 3\u001b[1;33m \u001b[0mcorrelation_matrix\u001b[0m\u001b[1;33m\u001b[0m\u001b[1;33m\u001b[0m\u001b[0m\n\u001b[0m",
      "\u001b[1;31mNameError\u001b[0m: name 'correlation_matrix' is not defined"
     ]
    }
   ],
   "source": [
    "## Printing the correlation matrix as well\n",
    "\n",
    "correlation_matrix"
   ]
  },
  {
   "cell_type": "markdown",
   "id": "42fb2737",
   "metadata": {},
   "source": [
    "<b>Observation</b>\n",
    "\n",
    "1. Highly negatively correlated: MPG and Weight, MPG and cylinders, MPG and displacement, MPG and horsepower. So, for increase in weight of the vehicle or number of cylinders or number of displacement or increase in horsepower, there will be a decrease in Mileage per Gallon\n",
    "\n",
    "2. Highly positivitly correlated: Cylinders and Weight, Cylinders and Displacement, Displacement and Weight. Here, for increase in cylinders there will be increase in weight of the vehicle or increase in cylinders will increase the displacement."
   ]
  },
  {
   "cell_type": "markdown",
   "id": "836895a4",
   "metadata": {},
   "source": [
    "#### 4. Plot mpg versus weight. Analyze this graph and explain how it relates to the corresponding correlation coefficient."
   ]
  },
  {
   "cell_type": "code",
   "execution_count": 20,
   "id": "f0a056b5",
   "metadata": {},
   "outputs": [
    {
     "data": {
      "text/plain": [
       "Text(0, 0.5, 'Vehicle Weight (lbs)')"
      ]
     },
     "execution_count": 20,
     "metadata": {},
     "output_type": "execute_result"
    },
    {
     "data": {
      "image/png": "[encoded data removed]",
      "text/plain": [
       "<Figure size 432x288 with 1 Axes>"
      ]
     },
     "metadata": {
      "needs_background": "light"
     },
     "output_type": "display_data"
    }
   ],
   "source": [
    "# Create a plot of mpg vs. weight\n",
    "\n",
    "auto_df.plot(x='mpg', y='weight', style='o')\n",
    "plt.suptitle('Miles Per Gallon vs. Vehicle Weight', fontsize=15)\n",
    "plt.xlabel('Miles Per Gallon (MPG)', fontsize=12)\n",
    "plt.ylabel('Vehicle Weight (lbs)', fontsize=12)"
   ]
  },
  {
   "cell_type": "markdown",
   "id": "5fe6a9c7",
   "metadata": {},
   "source": [
    "<b>Observation:</b>\n",
    "\n",
    "From the grapth we could infer that increase in weight of the vehicle decrease the Miles Per Gallon (MPG), and lighter vehicles have higher MPG. Here, the relationship between MPG and vehicle weight is inversely related - as one goes up, and other goes down and vice versa. These results are in agreement with the correlation coefficient as MPG and Weight are highly negatively correlated.\n"
   ]
  },
  {
   "cell_type": "markdown",
   "id": "1a65c1c3",
   "metadata": {},
   "source": [
    "#### 5. Randomly split the data into 80% training data and 20% test data, where your target is mpg."
   ]
  },
  {
   "cell_type": "code",
   "execution_count": 22,
   "id": "8c81d353",
   "metadata": {},
   "outputs": [
    {
     "data": {
      "text/plain": [
       "Index(['mpg', 'cylinders', 'displacement', 'horsepower', 'weight',\n",
       "       'acceleration', 'model year', 'origin', 'origin_1', 'origin_2',\n",
       "       'origin_3'],\n",
       "      dtype='object')"
      ]
     },
     "execution_count": 22,
     "metadata": {},
     "output_type": "execute_result"
    }
   ],
   "source": [
    "## Import numpy and print the column names\n",
    "\n",
    "import numpy as np\n",
    "auto_df.columns"
   ]
  },
  {
   "cell_type": "code",
   "execution_count": 28,
   "id": "1ecfebff",
   "metadata": {},
   "outputs": [
    {
     "data": {
      "text/plain": [
       "Index(['cylinders', 'displacement', 'horsepower', 'weight', 'acceleration',\n",
       "       'model year', 'origin', 'origin_1', 'origin_2', 'origin_3'],\n",
       "      dtype='object')"
      ]
     },
     "execution_count": 28,
     "metadata": {},
     "output_type": "execute_result"
    }
   ],
   "source": [
    "# create new df with no mpg column\n",
    "\n",
    "auto_df_nompg = auto_df.copy()\n",
    "auto_df_nompg = auto_df_nompg.drop('mpg',1)\n",
    "auto_df_nompg.columns"
   ]
  },
  {
   "cell_type": "code",
   "execution_count": 29,
   "id": "2f332da1",
   "metadata": {},
   "outputs": [
    {
     "data": {
      "text/html": [
       "<div>\n",
       "<style scoped>\n",
       "    .dataframe tbody tr th:only-of-type {\n",
       "        vertical-align: middle;\n",
       "    }\n",
       "\n",
       "    .dataframe tbody tr th {\n",
       "        vertical-align: top;\n",
       "    }\n",
       "\n",
       "    .dataframe thead th {\n",
       "        text-align: right;\n",
       "    }\n",
       "</style>\n",
       "<table border=\"1\" class=\"dataframe\">\n",
       "  <thead>\n",
       "    <tr style=\"text-align: right;\">\n",
       "      <th></th>\n",
       "      <th>cylinders</th>\n",
       "      <th>displacement</th>\n",
       "      <th>horsepower</th>\n",
       "      <th>weight</th>\n",
       "      <th>acceleration</th>\n",
       "      <th>model year</th>\n",
       "      <th>origin</th>\n",
       "      <th>origin_1</th>\n",
       "      <th>origin_2</th>\n",
       "      <th>origin_3</th>\n",
       "    </tr>\n",
       "  </thead>\n",
       "  <tbody>\n",
       "    <tr>\n",
       "      <th>0</th>\n",
       "      <td>8</td>\n",
       "      <td>307.0</td>\n",
       "      <td>130.0</td>\n",
       "      <td>3504</td>\n",
       "      <td>12.0</td>\n",
       "      <td>70</td>\n",
       "      <td>1</td>\n",
       "      <td>1</td>\n",
       "      <td>0</td>\n",
       "      <td>0</td>\n",
       "    </tr>\n",
       "    <tr>\n",
       "      <th>1</th>\n",
       "      <td>8</td>\n",
       "      <td>350.0</td>\n",
       "      <td>165.0</td>\n",
       "      <td>3693</td>\n",
       "      <td>11.5</td>\n",
       "      <td>70</td>\n",
       "      <td>1</td>\n",
       "      <td>1</td>\n",
       "      <td>0</td>\n",
       "      <td>0</td>\n",
       "    </tr>\n",
       "    <tr>\n",
       "      <th>2</th>\n",
       "      <td>8</td>\n",
       "      <td>318.0</td>\n",
       "      <td>150.0</td>\n",
       "      <td>3436</td>\n",
       "      <td>11.0</td>\n",
       "      <td>70</td>\n",
       "      <td>1</td>\n",
       "      <td>1</td>\n",
       "      <td>0</td>\n",
       "      <td>0</td>\n",
       "    </tr>\n",
       "    <tr>\n",
       "      <th>3</th>\n",
       "      <td>8</td>\n",
       "      <td>304.0</td>\n",
       "      <td>150.0</td>\n",
       "      <td>3433</td>\n",
       "      <td>12.0</td>\n",
       "      <td>70</td>\n",
       "      <td>1</td>\n",
       "      <td>1</td>\n",
       "      <td>0</td>\n",
       "      <td>0</td>\n",
       "    </tr>\n",
       "    <tr>\n",
       "      <th>4</th>\n",
       "      <td>8</td>\n",
       "      <td>302.0</td>\n",
       "      <td>140.0</td>\n",
       "      <td>3449</td>\n",
       "      <td>10.5</td>\n",
       "      <td>70</td>\n",
       "      <td>1</td>\n",
       "      <td>1</td>\n",
       "      <td>0</td>\n",
       "      <td>0</td>\n",
       "    </tr>\n",
       "  </tbody>\n",
       "</table>\n",
       "</div>"
      ],
      "text/plain": [
       "   cylinders  displacement  horsepower  weight  acceleration  model year  \\\n",
       "0          8         307.0       130.0    3504          12.0          70   \n",
       "1          8         350.0       165.0    3693          11.5          70   \n",
       "2          8         318.0       150.0    3436          11.0          70   \n",
       "3          8         304.0       150.0    3433          12.0          70   \n",
       "4          8         302.0       140.0    3449          10.5          70   \n",
       "\n",
       "   origin  origin_1  origin_2  origin_3  \n",
       "0       1         1         0         0  \n",
       "1       1         1         0         0  \n",
       "2       1         1         0         0  \n",
       "3       1         1         0         0  \n",
       "4       1         1         0         0  "
      ]
     },
     "execution_count": 29,
     "metadata": {},
     "output_type": "execute_result"
    }
   ],
   "source": [
    "## Printing few records in the dataframe\n",
    "\n",
    "auto_df_nompg.head()"
   ]
  },
  {
   "cell_type": "code",
   "execution_count": 30,
   "id": "df1819b0",
   "metadata": {},
   "outputs": [],
   "source": [
    "## Importing train_test_split module from sklearn\n",
    "## Split data into testing and training sets\n",
    "\n",
    "from sklearn.model_selection import train_test_split\n",
    "\n",
    "# Create x_train, x_test, y_train, y_test using train_test_split function with a test size of 20% (training is 80%)\n",
    "x_train, x_test, y_train, y_test = train_test_split(auto_df_nompg, auto_df[['mpg']], test_size=.2)"
   ]
  },
  {
   "cell_type": "code",
   "execution_count": 31,
   "id": "31accf44",
   "metadata": {},
   "outputs": [
    {
     "name": "stdout",
     "output_type": "stream",
     "text": [
      "The shape of x training dataset: (318, 10)\n",
      "The shape of y training dataset: (318, 1)\n"
     ]
    }
   ],
   "source": [
    "## Test the shape to see if it matches the y_train shape rows\n",
    "\n",
    "print(\"The shape of x training dataset: {}\".format(x_train.shape))\n",
    "print(\"The shape of y training dataset: {}\".format(y_train.shape))"
   ]
  },
  {
   "cell_type": "markdown",
   "id": "5661ac62",
   "metadata": {},
   "source": [
    "#### 6. Train an ordinary linear regression on the training data."
   ]
  },
  {
   "cell_type": "code",
   "execution_count": 32,
   "id": "c692be2a",
   "metadata": {},
   "outputs": [],
   "source": [
    "## import LinearRegression library\n",
    "\n",
    "from sklearn.linear_model import LinearRegression"
   ]
  },
  {
   "cell_type": "code",
   "execution_count": 41,
   "id": "3c9ae87a",
   "metadata": {},
   "outputs": [],
   "source": [
    "## Create Regression Model\n",
    "model = LinearRegression()\n",
    "\n",
    "## Train the model\n",
    "model.fit(x_train, y_train)\n",
    "\n",
    "## Use model to make predictions on test set\n",
    "y_pred = model.predict(x_test)"
   ]
  },
  {
   "cell_type": "markdown",
   "id": "fa31c50a",
   "metadata": {},
   "source": [
    "#### 7. Calculate R2, RMSE, and MAE on both the training and test sets and interpret your results."
   ]
  },
  {
   "cell_type": "code",
   "execution_count": 36,
   "id": "98251b24",
   "metadata": {},
   "outputs": [],
   "source": [
    "## Importing required libraries from sklearn.metricc\n",
    "\n",
    "from sklearn.metrics import mean_squared_error, r2_score, mean_absolute_error\n",
    "from math import sqrt"
   ]
  },
  {
   "cell_type": "code",
   "execution_count": 37,
   "id": "8cd35198",
   "metadata": {},
   "outputs": [
    {
     "name": "stdout",
     "output_type": "stream",
     "text": [
      "Model Coefficients: [[-1.87277135e-01  1.45795459e-02 -1.18152633e-02 -6.53300518e-03\n",
      "   1.06586092e-01  7.62840457e-01  9.10481813e-01 -9.09727614e-01\n",
      "   9.08973415e-01  7.54199270e-04]]\n",
      "Mean Absolute Error (MAE): 2.3548774785013755\n",
      "Root Mean Squared Error (RMSE): 2.878462045816159\n",
      "Coefficient of Determination (R2): 0.8515608379373032\n"
     ]
    }
   ],
   "source": [
    "## Printout Testing set relevant metrics\n",
    "\n",
    "print(\"Model Coefficients:\", model.coef_)\n",
    "print(\"Mean Absolute Error (MAE):\", mean_absolute_error(y_test, y_pred))\n",
    "print(\"Root Mean Squared Error (RMSE):\", sqrt(mean_squared_error(y_test, y_pred)))\n",
    "print(\"Coefficient of Determination (R2):\", r2_score(y_test, y_pred))"
   ]
  },
  {
   "cell_type": "markdown",
   "id": "0fc1c03c",
   "metadata": {},
   "source": [
    "<b>Observation:</b>\n",
    "\n",
    "1. <b>Low MAE</b> value of 2.5 indicates that the forecast value is nearer to the true value\n",
    "2. The <b>low RMSE</b> of 2.87 means that the predictions are not that far away from the values (mpg range from 12-18), and the predictions are relatively accurate\n",
    "3. The <b>R2</b> value of 0.85 (85%) is somewhat high (0-1 scale) and means that the predictor mostly determines the observed value"
   ]
  },
  {
   "cell_type": "markdown",
   "id": "ed953a65",
   "metadata": {},
   "source": [
    "#### 8. Pick another regression model and repeat the previous two steps. Note: Do NOT choose logistic regression as it is more like a classification model."
   ]
  },
  {
   "cell_type": "markdown",
   "id": "a5286bb3",
   "metadata": {},
   "source": [
    "I have chosen <b>Ridge regression</b> and going to repeat the above steps"
   ]
  },
  {
   "cell_type": "code",
   "execution_count": 38,
   "id": "92498fbf",
   "metadata": {},
   "outputs": [],
   "source": [
    "## Importing required libraries\n",
    "from sklearn import linear_model\n",
    "\n",
    "# train the model\n",
    "ridge_r = linear_model.Ridge().fit(x_train, y_train)\n",
    "\n",
    "# Use model to make predictions\n",
    "y_pred_rgr = ridge_r.predict(x_test)"
   ]
  },
  {
   "cell_type": "code",
   "execution_count": 39,
   "id": "f95fd79c",
   "metadata": {},
   "outputs": [
    {
     "name": "stdout",
     "output_type": "stream",
     "text": [
      "Model Coefficients: [[-1.87277135e-01  1.45795459e-02 -1.18152633e-02 -6.53300518e-03\n",
      "   1.06586092e-01  7.62840457e-01  9.10481813e-01 -9.09727614e-01\n",
      "   9.08973415e-01  7.54199270e-04]]\n",
      "Mean Absolute Error (MAE): 2.3554616597417404\n",
      "Root Mean Squared Error (RMSE): 2.8791440086412017\n",
      "Coefficient of Determination (R2): 0.8514904934405836\n"
     ]
    }
   ],
   "source": [
    "### Calculate R2, RMSE, and MAE on both the training and test sets and interpret your results.\n",
    "## Print relevant metrics for test data\n",
    "\n",
    "print(\"Model Coefficients:\", model.coef_)\n",
    "print(\"Mean Absolute Error (MAE):\", mean_absolute_error(y_test, y_pred_rgr))\n",
    "print(\"Root Mean Squared Error (RMSE):\", sqrt(mean_squared_error(y_test, y_pred_rgr)))\n",
    "print(\"Coefficient of Determination (R2):\", r2_score(y_test, y_pred_rgr))"
   ]
  },
  {
   "cell_type": "markdown",
   "id": "944a9fdb",
   "metadata": {},
   "source": [
    "<b>Observation:</b>\n",
    "\n",
    "1. The low MAE value of 2.355 indicates that the forecast value is nearer to the true values\n",
    "2. The low RMSE of 2.87 means that the predictions are not that far away from the values (mpg range from 12-18), and the predictions are relatively accurate\n",
    "3. The R2 value of 0.85 (85%) is somewhat high (0-1 scale) and means that the predictor mostly determines the observed value\n",
    "4. These metrics are almost identical to testing set metrics in linear regression"
   ]
  },
  {
   "cell_type": "code",
   "execution_count": 40,
   "id": "b28ed341",
   "metadata": {},
   "outputs": [
    {
     "name": "stdout",
     "output_type": "stream",
     "text": [
      "Mean Absolute Error (MAE): 2.5549165205491238\n",
      "Root Mean Squared Error (RMSE): 3.3726246694393556\n",
      "Coefficient of Determination (R2): 0.8168310994019996\n"
     ]
    }
   ],
   "source": [
    "# Use model to make predictions on training set\n",
    "y_pred_rgr_train = ridge_r.predict(x_train)\n",
    "\n",
    "# Prining relevant metrics for training dataset\n",
    "print(\"Mean Absolute Error (MAE):\", mean_absolute_error(y_train, y_pred_rgr_train)) #on average, how far away the predictions are from values\n",
    "print(\"Root Mean Squared Error (RMSE):\", sqrt(mean_squared_error(y_train, y_pred_rgr_train)))\n",
    "print(\"Coefficient of Determination (R2):\", r2_score(y_train, y_pred_rgr_train))\n"
   ]
  },
  {
   "cell_type": "markdown",
   "id": "088f39a7",
   "metadata": {},
   "source": [
    "<b>Observation:</b>\n",
    "\n",
    "1. The low MAE value of 2.55 indicates that forecast value is near to true values\n",
    "2. The low RMSE of 3.37 means that the predictions are not that far away from the values (mpg range from 12-18), and the predictions are relatively accurate\n",
    "3. The R2 value of 0.816 (81.6%) is somewhat high (0-1 scale) and means that the predictor mostly determines the observed value\n",
    "4. These metrics are almost identical to training set metrics in linear regression"
   ]
  },
  {
   "cell_type": "code",
   "execution_count": null,
   "id": "a2765003",
   "metadata": {},
   "outputs": [],
   "source": []
  }
 ],
 "metadata": {
  "kernelspec": {
   "display_name": "Python 3",
   "language": "python",
   "name": "python3"
  },
  "language_info": {
   "codemirror_mode": {
    "name": "ipython",
    "version": 3
   },
   "file_extension": ".py",
   "mimetype": "text/x-python",
   "name": "python",
   "nbconvert_exporter": "python",
   "pygments_lexer": "ipython3",
   "version": "3.8.8"
  }
 },
 "nbformat": 4,
 "nbformat_minor": 5
}
