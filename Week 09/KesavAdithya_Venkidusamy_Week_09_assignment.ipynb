{
 "cells": [
  {
   "cell_type": "markdown",
   "id": "3541a0f4",
   "metadata": {},
   "source": [
    "# Weeks 9 Exercises\n",
    "\n",
    "Name: Kesav Adithya Venkidusamy <br>\n",
    "Course: DSC550 - Data Mining <br>\n",
    "Instructor: Brett Werner <br>"
   ]
  },
  {
   "cell_type": "markdown",
   "id": "ac4ac9b7",
   "metadata": {},
   "source": [
    "## Best Model Selection and Hyperparameter Tuning"
   ]
  },
  {
   "cell_type": "markdown",
   "id": "d2cf586d",
   "metadata": {},
   "source": [
    "##### Importing libraries"
   ]
  },
  {
   "cell_type": "code",
   "execution_count": 1,
   "id": "3608cbd3",
   "metadata": {},
   "outputs": [],
   "source": [
    "## Importing the libraries required for this assignment\n",
    "import pandas as pd\n",
    "import numpy as np\n",
    "import matplotlib.pyplot as plt\n",
    "from sklearn.model_selection import train_test_split #used to split data into training/test sets\n",
    "from sklearn.metrics import plot_confusion_matrix\n",
    "import sklearn.metrics as metrics\n",
    "from sklearn.metrics import confusion_matrix\n",
    "from yellowbrick.classifier import ConfusionMatrix\n",
    "from sklearn.linear_model import LogisticRegression\n",
    "from sklearn.ensemble import RandomForestClassifier"
   ]
  },
  {
   "cell_type": "markdown",
   "id": "f5fcced2",
   "metadata": {},
   "source": [
    "##### 1. Import the dataset and ensure that it loaded properly."
   ]
  },
  {
   "cell_type": "code",
   "execution_count": 6,
   "id": "5c0f1f05",
   "metadata": {},
   "outputs": [
    {
     "data": {
      "text/html": [
       "<div>\n",
       "<style scoped>\n",
       "    .dataframe tbody tr th:only-of-type {\n",
       "        vertical-align: middle;\n",
       "    }\n",
       "\n",
       "    .dataframe tbody tr th {\n",
       "        vertical-align: top;\n",
       "    }\n",
       "\n",
       "    .dataframe thead th {\n",
       "        text-align: right;\n",
       "    }\n",
       "</style>\n",
       "<table border=\"1\" class=\"dataframe\">\n",
       "  <thead>\n",
       "    <tr style=\"text-align: right;\">\n",
       "      <th></th>\n",
       "      <th>Loan_ID</th>\n",
       "      <th>Gender</th>\n",
       "      <th>Married</th>\n",
       "      <th>Dependents</th>\n",
       "      <th>Education</th>\n",
       "      <th>Self_Employed</th>\n",
       "      <th>ApplicantIncome</th>\n",
       "      <th>CoapplicantIncome</th>\n",
       "      <th>LoanAmount</th>\n",
       "      <th>Loan_Amount_Term</th>\n",
       "      <th>Credit_History</th>\n",
       "      <th>Property_Area</th>\n",
       "      <th>Loan_Status</th>\n",
       "    </tr>\n",
       "  </thead>\n",
       "  <tbody>\n",
       "    <tr>\n",
       "      <th>0</th>\n",
       "      <td>LP001002</td>\n",
       "      <td>Male</td>\n",
       "      <td>No</td>\n",
       "      <td>0</td>\n",
       "      <td>Graduate</td>\n",
       "      <td>No</td>\n",
       "      <td>5849</td>\n",
       "      <td>0.0</td>\n",
       "      <td>NaN</td>\n",
       "      <td>360.0</td>\n",
       "      <td>1.0</td>\n",
       "      <td>Urban</td>\n",
       "      <td>Y</td>\n",
       "    </tr>\n",
       "    <tr>\n",
       "      <th>1</th>\n",
       "      <td>LP001003</td>\n",
       "      <td>Male</td>\n",
       "      <td>Yes</td>\n",
       "      <td>1</td>\n",
       "      <td>Graduate</td>\n",
       "      <td>No</td>\n",
       "      <td>4583</td>\n",
       "      <td>1508.0</td>\n",
       "      <td>128.0</td>\n",
       "      <td>360.0</td>\n",
       "      <td>1.0</td>\n",
       "      <td>Rural</td>\n",
       "      <td>N</td>\n",
       "    </tr>\n",
       "    <tr>\n",
       "      <th>2</th>\n",
       "      <td>LP001005</td>\n",
       "      <td>Male</td>\n",
       "      <td>Yes</td>\n",
       "      <td>0</td>\n",
       "      <td>Graduate</td>\n",
       "      <td>Yes</td>\n",
       "      <td>3000</td>\n",
       "      <td>0.0</td>\n",
       "      <td>66.0</td>\n",
       "      <td>360.0</td>\n",
       "      <td>1.0</td>\n",
       "      <td>Urban</td>\n",
       "      <td>Y</td>\n",
       "    </tr>\n",
       "    <tr>\n",
       "      <th>3</th>\n",
       "      <td>LP001006</td>\n",
       "      <td>Male</td>\n",
       "      <td>Yes</td>\n",
       "      <td>0</td>\n",
       "      <td>Not Graduate</td>\n",
       "      <td>No</td>\n",
       "      <td>2583</td>\n",
       "      <td>2358.0</td>\n",
       "      <td>120.0</td>\n",
       "      <td>360.0</td>\n",
       "      <td>1.0</td>\n",
       "      <td>Urban</td>\n",
       "      <td>Y</td>\n",
       "    </tr>\n",
       "    <tr>\n",
       "      <th>4</th>\n",
       "      <td>LP001008</td>\n",
       "      <td>Male</td>\n",
       "      <td>No</td>\n",
       "      <td>0</td>\n",
       "      <td>Graduate</td>\n",
       "      <td>No</td>\n",
       "      <td>6000</td>\n",
       "      <td>0.0</td>\n",
       "      <td>141.0</td>\n",
       "      <td>360.0</td>\n",
       "      <td>1.0</td>\n",
       "      <td>Urban</td>\n",
       "      <td>Y</td>\n",
       "    </tr>\n",
       "  </tbody>\n",
       "</table>\n",
       "</div>"
      ],
      "text/plain": [
       "    Loan_ID Gender Married Dependents     Education Self_Employed  \\\n",
       "0  LP001002   Male      No          0      Graduate            No   \n",
       "1  LP001003   Male     Yes          1      Graduate            No   \n",
       "2  LP001005   Male     Yes          0      Graduate           Yes   \n",
       "3  LP001006   Male     Yes          0  Not Graduate            No   \n",
       "4  LP001008   Male      No          0      Graduate            No   \n",
       "\n",
       "   ApplicantIncome  CoapplicantIncome  LoanAmount  Loan_Amount_Term  \\\n",
       "0             5849                0.0         NaN             360.0   \n",
       "1             4583             1508.0       128.0             360.0   \n",
       "2             3000                0.0        66.0             360.0   \n",
       "3             2583             2358.0       120.0             360.0   \n",
       "4             6000                0.0       141.0             360.0   \n",
       "\n",
       "   Credit_History Property_Area Loan_Status  \n",
       "0             1.0         Urban           Y  \n",
       "1             1.0         Rural           N  \n",
       "2             1.0         Urban           Y  \n",
       "3             1.0         Urban           Y  \n",
       "4             1.0         Urban           Y  "
      ]
     },
     "execution_count": 6,
     "metadata": {},
     "output_type": "execute_result"
    }
   ],
   "source": [
    "#load the data into pandas dataframe\n",
    "loan_df = pd.read_csv('Loan_Train.csv') \n",
    "loan_df.head()"
   ]
  },
  {
   "cell_type": "code",
   "execution_count": 7,
   "id": "310417b1",
   "metadata": {},
   "outputs": [
    {
     "data": {
      "text/plain": [
       "(614, 13)"
      ]
     },
     "execution_count": 7,
     "metadata": {},
     "output_type": "execute_result"
    }
   ],
   "source": [
    "## Check the shape of the dataframe\n",
    "loan_df.shape"
   ]
  },
  {
   "cell_type": "code",
   "execution_count": 8,
   "id": "ac159f97",
   "metadata": {},
   "outputs": [
    {
     "data": {
      "text/plain": [
       "Loan_ID               object\n",
       "Gender                object\n",
       "Married               object\n",
       "Dependents            object\n",
       "Education             object\n",
       "Self_Employed         object\n",
       "ApplicantIncome        int64\n",
       "CoapplicantIncome    float64\n",
       "LoanAmount           float64\n",
       "Loan_Amount_Term     float64\n",
       "Credit_History       float64\n",
       "Property_Area         object\n",
       "Loan_Status           object\n",
       "dtype: object"
      ]
     },
     "execution_count": 8,
     "metadata": {},
     "output_type": "execute_result"
    }
   ],
   "source": [
    "## Printing the datatypes of each column\n",
    "loan_df.dtypes"
   ]
  },
  {
   "cell_type": "markdown",
   "id": "7ffc20b0",
   "metadata": {},
   "source": [
    "##### 2: Prepare the data for modeling by performing the following steps:"
   ]
  },
  {
   "cell_type": "markdown",
   "id": "de16e984",
   "metadata": {},
   "source": [
    "###### Drop the column “Load_ID.”"
   ]
  },
  {
   "cell_type": "code",
   "execution_count": 10,
   "id": "72b37f61",
   "metadata": {},
   "outputs": [
    {
     "data": {
      "text/html": [
       "<div>\n",
       "<style scoped>\n",
       "    .dataframe tbody tr th:only-of-type {\n",
       "        vertical-align: middle;\n",
       "    }\n",
       "\n",
       "    .dataframe tbody tr th {\n",
       "        vertical-align: top;\n",
       "    }\n",
       "\n",
       "    .dataframe thead th {\n",
       "        text-align: right;\n",
       "    }\n",
       "</style>\n",
       "<table border=\"1\" class=\"dataframe\">\n",
       "  <thead>\n",
       "    <tr style=\"text-align: right;\">\n",
       "      <th></th>\n",
       "      <th>Gender</th>\n",
       "      <th>Married</th>\n",
       "      <th>Dependents</th>\n",
       "      <th>Education</th>\n",
       "      <th>Self_Employed</th>\n",
       "      <th>ApplicantIncome</th>\n",
       "      <th>CoapplicantIncome</th>\n",
       "      <th>LoanAmount</th>\n",
       "      <th>Loan_Amount_Term</th>\n",
       "      <th>Credit_History</th>\n",
       "      <th>Property_Area</th>\n",
       "      <th>Loan_Status</th>\n",
       "    </tr>\n",
       "  </thead>\n",
       "  <tbody>\n",
       "    <tr>\n",
       "      <th>0</th>\n",
       "      <td>Male</td>\n",
       "      <td>No</td>\n",
       "      <td>0</td>\n",
       "      <td>Graduate</td>\n",
       "      <td>No</td>\n",
       "      <td>5849</td>\n",
       "      <td>0.0</td>\n",
       "      <td>NaN</td>\n",
       "      <td>360.0</td>\n",
       "      <td>1.0</td>\n",
       "      <td>Urban</td>\n",
       "      <td>Y</td>\n",
       "    </tr>\n",
       "    <tr>\n",
       "      <th>1</th>\n",
       "      <td>Male</td>\n",
       "      <td>Yes</td>\n",
       "      <td>1</td>\n",
       "      <td>Graduate</td>\n",
       "      <td>No</td>\n",
       "      <td>4583</td>\n",
       "      <td>1508.0</td>\n",
       "      <td>128.0</td>\n",
       "      <td>360.0</td>\n",
       "      <td>1.0</td>\n",
       "      <td>Rural</td>\n",
       "      <td>N</td>\n",
       "    </tr>\n",
       "    <tr>\n",
       "      <th>2</th>\n",
       "      <td>Male</td>\n",
       "      <td>Yes</td>\n",
       "      <td>0</td>\n",
       "      <td>Graduate</td>\n",
       "      <td>Yes</td>\n",
       "      <td>3000</td>\n",
       "      <td>0.0</td>\n",
       "      <td>66.0</td>\n",
       "      <td>360.0</td>\n",
       "      <td>1.0</td>\n",
       "      <td>Urban</td>\n",
       "      <td>Y</td>\n",
       "    </tr>\n",
       "    <tr>\n",
       "      <th>3</th>\n",
       "      <td>Male</td>\n",
       "      <td>Yes</td>\n",
       "      <td>0</td>\n",
       "      <td>Not Graduate</td>\n",
       "      <td>No</td>\n",
       "      <td>2583</td>\n",
       "      <td>2358.0</td>\n",
       "      <td>120.0</td>\n",
       "      <td>360.0</td>\n",
       "      <td>1.0</td>\n",
       "      <td>Urban</td>\n",
       "      <td>Y</td>\n",
       "    </tr>\n",
       "    <tr>\n",
       "      <th>4</th>\n",
       "      <td>Male</td>\n",
       "      <td>No</td>\n",
       "      <td>0</td>\n",
       "      <td>Graduate</td>\n",
       "      <td>No</td>\n",
       "      <td>6000</td>\n",
       "      <td>0.0</td>\n",
       "      <td>141.0</td>\n",
       "      <td>360.0</td>\n",
       "      <td>1.0</td>\n",
       "      <td>Urban</td>\n",
       "      <td>Y</td>\n",
       "    </tr>\n",
       "  </tbody>\n",
       "</table>\n",
       "</div>"
      ],
      "text/plain": [
       "  Gender Married Dependents     Education Self_Employed  ApplicantIncome  \\\n",
       "0   Male      No          0      Graduate            No             5849   \n",
       "1   Male     Yes          1      Graduate            No             4583   \n",
       "2   Male     Yes          0      Graduate           Yes             3000   \n",
       "3   Male     Yes          0  Not Graduate            No             2583   \n",
       "4   Male      No          0      Graduate            No             6000   \n",
       "\n",
       "   CoapplicantIncome  LoanAmount  Loan_Amount_Term  Credit_History  \\\n",
       "0                0.0         NaN             360.0             1.0   \n",
       "1             1508.0       128.0             360.0             1.0   \n",
       "2                0.0        66.0             360.0             1.0   \n",
       "3             2358.0       120.0             360.0             1.0   \n",
       "4                0.0       141.0             360.0             1.0   \n",
       "\n",
       "  Property_Area Loan_Status  \n",
       "0         Urban           Y  \n",
       "1         Rural           N  \n",
       "2         Urban           Y  \n",
       "3         Urban           Y  \n",
       "4         Urban           Y  "
      ]
     },
     "execution_count": 10,
     "metadata": {},
     "output_type": "execute_result"
    }
   ],
   "source": [
    "## Dropping the Load_ID and showing few records\n",
    "loan_df = load_df.drop(['Loan_ID'], axis=1)\n",
    "loan_df.head()"
   ]
  },
  {
   "cell_type": "code",
   "execution_count": 11,
   "id": "33e192a8",
   "metadata": {},
   "outputs": [
    {
     "data": {
      "text/plain": [
       "(614, 12)"
      ]
     },
     "execution_count": 11,
     "metadata": {},
     "output_type": "execute_result"
    }
   ],
   "source": [
    "## Display the shape of dataframe\n",
    "loan_df.shape"
   ]
  },
  {
   "cell_type": "markdown",
   "id": "ef2dec11",
   "metadata": {},
   "source": [
    "##### Drop any rows with missing data."
   ]
  },
  {
   "cell_type": "code",
   "execution_count": 12,
   "id": "ca17203b",
   "metadata": {},
   "outputs": [],
   "source": [
    "## Drop rows with missing data using dropna() function  \n",
    "loan_df = loan_df.dropna()"
   ]
  },
  {
   "cell_type": "code",
   "execution_count": 13,
   "id": "a0d753d7",
   "metadata": {},
   "outputs": [
    {
     "data": {
      "text/plain": [
       "(480, 12)"
      ]
     },
     "execution_count": 13,
     "metadata": {},
     "output_type": "execute_result"
    }
   ],
   "source": [
    "## check shape of df to ensure rows dropped\n",
    "loan_df.shape"
   ]
  },
  {
   "cell_type": "code",
   "execution_count": 14,
   "id": "319e2f11",
   "metadata": {},
   "outputs": [
    {
     "data": {
      "text/html": [
       "<div>\n",
       "<style scoped>\n",
       "    .dataframe tbody tr th:only-of-type {\n",
       "        vertical-align: middle;\n",
       "    }\n",
       "\n",
       "    .dataframe tbody tr th {\n",
       "        vertical-align: top;\n",
       "    }\n",
       "\n",
       "    .dataframe thead th {\n",
       "        text-align: right;\n",
       "    }\n",
       "</style>\n",
       "<table border=\"1\" class=\"dataframe\">\n",
       "  <thead>\n",
       "    <tr style=\"text-align: right;\">\n",
       "      <th></th>\n",
       "      <th>Gender</th>\n",
       "      <th>Married</th>\n",
       "      <th>Dependents</th>\n",
       "      <th>Education</th>\n",
       "      <th>Self_Employed</th>\n",
       "      <th>ApplicantIncome</th>\n",
       "      <th>CoapplicantIncome</th>\n",
       "      <th>LoanAmount</th>\n",
       "      <th>Loan_Amount_Term</th>\n",
       "      <th>Credit_History</th>\n",
       "      <th>Property_Area</th>\n",
       "      <th>Loan_Status</th>\n",
       "    </tr>\n",
       "  </thead>\n",
       "  <tbody>\n",
       "    <tr>\n",
       "      <th>1</th>\n",
       "      <td>Male</td>\n",
       "      <td>Yes</td>\n",
       "      <td>1</td>\n",
       "      <td>Graduate</td>\n",
       "      <td>No</td>\n",
       "      <td>4583</td>\n",
       "      <td>1508.0</td>\n",
       "      <td>128.0</td>\n",
       "      <td>360.0</td>\n",
       "      <td>1.0</td>\n",
       "      <td>Rural</td>\n",
       "      <td>N</td>\n",
       "    </tr>\n",
       "    <tr>\n",
       "      <th>2</th>\n",
       "      <td>Male</td>\n",
       "      <td>Yes</td>\n",
       "      <td>0</td>\n",
       "      <td>Graduate</td>\n",
       "      <td>Yes</td>\n",
       "      <td>3000</td>\n",
       "      <td>0.0</td>\n",
       "      <td>66.0</td>\n",
       "      <td>360.0</td>\n",
       "      <td>1.0</td>\n",
       "      <td>Urban</td>\n",
       "      <td>Y</td>\n",
       "    </tr>\n",
       "    <tr>\n",
       "      <th>3</th>\n",
       "      <td>Male</td>\n",
       "      <td>Yes</td>\n",
       "      <td>0</td>\n",
       "      <td>Not Graduate</td>\n",
       "      <td>No</td>\n",
       "      <td>2583</td>\n",
       "      <td>2358.0</td>\n",
       "      <td>120.0</td>\n",
       "      <td>360.0</td>\n",
       "      <td>1.0</td>\n",
       "      <td>Urban</td>\n",
       "      <td>Y</td>\n",
       "    </tr>\n",
       "    <tr>\n",
       "      <th>4</th>\n",
       "      <td>Male</td>\n",
       "      <td>No</td>\n",
       "      <td>0</td>\n",
       "      <td>Graduate</td>\n",
       "      <td>No</td>\n",
       "      <td>6000</td>\n",
       "      <td>0.0</td>\n",
       "      <td>141.0</td>\n",
       "      <td>360.0</td>\n",
       "      <td>1.0</td>\n",
       "      <td>Urban</td>\n",
       "      <td>Y</td>\n",
       "    </tr>\n",
       "    <tr>\n",
       "      <th>5</th>\n",
       "      <td>Male</td>\n",
       "      <td>Yes</td>\n",
       "      <td>2</td>\n",
       "      <td>Graduate</td>\n",
       "      <td>Yes</td>\n",
       "      <td>5417</td>\n",
       "      <td>4196.0</td>\n",
       "      <td>267.0</td>\n",
       "      <td>360.0</td>\n",
       "      <td>1.0</td>\n",
       "      <td>Urban</td>\n",
       "      <td>Y</td>\n",
       "    </tr>\n",
       "  </tbody>\n",
       "</table>\n",
       "</div>"
      ],
      "text/plain": [
       "  Gender Married Dependents     Education Self_Employed  ApplicantIncome  \\\n",
       "1   Male     Yes          1      Graduate            No             4583   \n",
       "2   Male     Yes          0      Graduate           Yes             3000   \n",
       "3   Male     Yes          0  Not Graduate            No             2583   \n",
       "4   Male      No          0      Graduate            No             6000   \n",
       "5   Male     Yes          2      Graduate           Yes             5417   \n",
       "\n",
       "   CoapplicantIncome  LoanAmount  Loan_Amount_Term  Credit_History  \\\n",
       "1             1508.0       128.0             360.0             1.0   \n",
       "2                0.0        66.0             360.0             1.0   \n",
       "3             2358.0       120.0             360.0             1.0   \n",
       "4                0.0       141.0             360.0             1.0   \n",
       "5             4196.0       267.0             360.0             1.0   \n",
       "\n",
       "  Property_Area Loan_Status  \n",
       "1         Rural           N  \n",
       "2         Urban           Y  \n",
       "3         Urban           Y  \n",
       "4         Urban           Y  \n",
       "5         Urban           Y  "
      ]
     },
     "execution_count": 14,
     "metadata": {},
     "output_type": "execute_result"
    }
   ],
   "source": [
    "## Showing few records in the dataframe\n",
    "loan_df.head()"
   ]
  },
  {
   "cell_type": "markdown",
   "id": "2167c291",
   "metadata": {},
   "source": [
    "##### Convert the categorical features into dummy variables."
   ]
  },
  {
   "cell_type": "code",
   "execution_count": 15,
   "id": "0ff4a612",
   "metadata": {},
   "outputs": [
    {
     "data": {
      "text/plain": [
       "['Married',\n",
       " 'Property_Area',\n",
       " 'Dependents',\n",
       " 'Gender',\n",
       " 'Loan_Status',\n",
       " 'Self_Employed',\n",
       " 'Education']"
      ]
     },
     "execution_count": 15,
     "metadata": {},
     "output_type": "execute_result"
    }
   ],
   "source": [
    "## Summarize the categorical columns in the dataframe\n",
    "catCols = loan_df.select_dtypes(\"object\").columns\n",
    "catCols= list(set(catCols))\n",
    "catCols"
   ]
  },
  {
   "cell_type": "markdown",
   "id": "08e281ad",
   "metadata": {},
   "source": [
    "##### New Column creation for Loan Status"
   ]
  },
  {
   "cell_type": "code",
   "execution_count": 21,
   "id": "1d349ab0",
   "metadata": {},
   "outputs": [],
   "source": [
    "## Create a new column that converts the class to a coded class of 1 and 0 (Y=1 and N=0) for target in model\n",
    "loan_df['Loan_Status_Coded'] = loan_df['Loan_Status'].replace(to_replace=[\"Y\",\"N\"], value=[1,0])"
   ]
  },
  {
   "cell_type": "code",
   "execution_count": 22,
   "id": "161a268f",
   "metadata": {},
   "outputs": [],
   "source": [
    "## Create dummy variables for Categorical columns\n",
    "loan_dummy_df = pd.get_dummies(loan_df, columns=catCols)"
   ]
  },
  {
   "cell_type": "code",
   "execution_count": 23,
   "id": "44d59c46",
   "metadata": {},
   "outputs": [
    {
     "data": {
      "text/plain": [
       "ApplicantIncome              int64\n",
       "CoapplicantIncome          float64\n",
       "LoanAmount                 float64\n",
       "Loan_Amount_Term           float64\n",
       "Credit_History             float64\n",
       "Loan_Status_Coded            int64\n",
       "Married_No                   uint8\n",
       "Married_Yes                  uint8\n",
       "Property_Area_Rural          uint8\n",
       "Property_Area_Semiurban      uint8\n",
       "Property_Area_Urban          uint8\n",
       "Dependents_0                 uint8\n",
       "Dependents_1                 uint8\n",
       "Dependents_2                 uint8\n",
       "Dependents_3+                uint8\n",
       "Gender_Female                uint8\n",
       "Gender_Male                  uint8\n",
       "Loan_Status_N                uint8\n",
       "Loan_Status_Y                uint8\n",
       "Self_Employed_No             uint8\n",
       "Self_Employed_Yes            uint8\n",
       "Education_Graduate           uint8\n",
       "Education_Not Graduate       uint8\n",
       "dtype: object"
      ]
     },
     "execution_count": 23,
     "metadata": {},
     "output_type": "execute_result"
    }
   ],
   "source": [
    "## Showing the columns and dtypes\n",
    "loan_dummy_df.dtypes"
   ]
  },
  {
   "cell_type": "markdown",
   "id": "9ef916f8",
   "metadata": {},
   "source": [
    "##### 3: Split the data into a training and test set, where the “Loan_Status” column is the target."
   ]
  },
  {
   "cell_type": "code",
   "execution_count": 26,
   "id": "98d73aa3",
   "metadata": {},
   "outputs": [],
   "source": [
    "## split the data into a training and test set\n",
    "## drop the target variables related to Loan_Status\n",
    "## get the target\n",
    "X = loan_dummy_df.drop(['Loan_Status_Coded', 'Loan_Status_N', 'Loan_Status_Y'], axis = 1)\n",
    "y = loan_dummy_df['Loan_Status_Coded'] # (Y=1 and N=0)\n",
    "\n",
    "## split the data into training and test sets (80% Training/20% Test)\n",
    "X_train, X_test, y_train, y_test = train_test_split(X, y, test_size = 0.2)\n",
    "\n",
    "## Reset indices in the training and test sets to prevent pandas slicing warnings\n",
    "X_train = X_train.reset_index(drop = True) #drop + True drops the previous index\n",
    "X_test = X_test.reset_index(drop = True)\n",
    "y_train = y_train.reset_index(drop = True)\n",
    "y_test = y_test.reset_index(drop = True)"
   ]
  },
  {
   "cell_type": "code",
   "execution_count": 54,
   "id": "0fa4d250",
   "metadata": {},
   "outputs": [
    {
     "name": "stdout",
     "output_type": "stream",
     "text": [
      "(384, 20)\n",
      "(96, 20)\n",
      "(384,)\n",
      "(96,)\n"
     ]
    }
   ],
   "source": [
    "## show the sizes of the training and test sets\n",
    "print(X_train.shape)\n",
    "print(X_test.shape)\n",
    "print(y_train.shape)\n",
    "print(y_test.shape)"
   ]
  },
  {
   "cell_type": "code",
   "execution_count": 29,
   "id": "4ba6ccd1",
   "metadata": {},
   "outputs": [
    {
     "name": "stdout",
     "output_type": "stream",
     "text": [
      "1    264\n",
      "0    120\n",
      "Name: Loan_Status_Coded, dtype: int64\n",
      "1    68\n",
      "0    28\n",
      "Name: Loan_Status_Coded, dtype: int64\n"
     ]
    }
   ],
   "source": [
    "## Number of records for Loan Status: (Y=1 and N=0)\n",
    "print(y_train.value_counts())\n",
    "print(y_test.value_counts())"
   ]
  },
  {
   "cell_type": "code",
   "execution_count": 30,
   "id": "27621f74",
   "metadata": {},
   "outputs": [
    {
     "data": {
      "text/html": [
       "<div>\n",
       "<style scoped>\n",
       "    .dataframe tbody tr th:only-of-type {\n",
       "        vertical-align: middle;\n",
       "    }\n",
       "\n",
       "    .dataframe tbody tr th {\n",
       "        vertical-align: top;\n",
       "    }\n",
       "\n",
       "    .dataframe thead th {\n",
       "        text-align: right;\n",
       "    }\n",
       "</style>\n",
       "<table border=\"1\" class=\"dataframe\">\n",
       "  <thead>\n",
       "    <tr style=\"text-align: right;\">\n",
       "      <th></th>\n",
       "      <th>ApplicantIncome</th>\n",
       "      <th>CoapplicantIncome</th>\n",
       "      <th>LoanAmount</th>\n",
       "      <th>Loan_Amount_Term</th>\n",
       "      <th>Credit_History</th>\n",
       "      <th>Married_No</th>\n",
       "      <th>Married_Yes</th>\n",
       "      <th>Property_Area_Rural</th>\n",
       "      <th>Property_Area_Semiurban</th>\n",
       "      <th>Property_Area_Urban</th>\n",
       "      <th>Dependents_0</th>\n",
       "      <th>Dependents_1</th>\n",
       "      <th>Dependents_2</th>\n",
       "      <th>Dependents_3+</th>\n",
       "      <th>Gender_Female</th>\n",
       "      <th>Gender_Male</th>\n",
       "      <th>Self_Employed_No</th>\n",
       "      <th>Self_Employed_Yes</th>\n",
       "      <th>Education_Graduate</th>\n",
       "      <th>Education_Not Graduate</th>\n",
       "    </tr>\n",
       "  </thead>\n",
       "  <tbody>\n",
       "    <tr>\n",
       "      <th>0</th>\n",
       "      <td>4350</td>\n",
       "      <td>0.0</td>\n",
       "      <td>154.0</td>\n",
       "      <td>360.0</td>\n",
       "      <td>1.0</td>\n",
       "      <td>1</td>\n",
       "      <td>0</td>\n",
       "      <td>1</td>\n",
       "      <td>0</td>\n",
       "      <td>0</td>\n",
       "      <td>1</td>\n",
       "      <td>0</td>\n",
       "      <td>0</td>\n",
       "      <td>0</td>\n",
       "      <td>1</td>\n",
       "      <td>0</td>\n",
       "      <td>1</td>\n",
       "      <td>0</td>\n",
       "      <td>0</td>\n",
       "      <td>1</td>\n",
       "    </tr>\n",
       "    <tr>\n",
       "      <th>1</th>\n",
       "      <td>3315</td>\n",
       "      <td>0.0</td>\n",
       "      <td>96.0</td>\n",
       "      <td>360.0</td>\n",
       "      <td>1.0</td>\n",
       "      <td>0</td>\n",
       "      <td>1</td>\n",
       "      <td>0</td>\n",
       "      <td>1</td>\n",
       "      <td>0</td>\n",
       "      <td>0</td>\n",
       "      <td>1</td>\n",
       "      <td>0</td>\n",
       "      <td>0</td>\n",
       "      <td>0</td>\n",
       "      <td>1</td>\n",
       "      <td>1</td>\n",
       "      <td>0</td>\n",
       "      <td>1</td>\n",
       "      <td>0</td>\n",
       "    </tr>\n",
       "    <tr>\n",
       "      <th>2</th>\n",
       "      <td>1963</td>\n",
       "      <td>0.0</td>\n",
       "      <td>53.0</td>\n",
       "      <td>360.0</td>\n",
       "      <td>1.0</td>\n",
       "      <td>1</td>\n",
       "      <td>0</td>\n",
       "      <td>0</td>\n",
       "      <td>1</td>\n",
       "      <td>0</td>\n",
       "      <td>1</td>\n",
       "      <td>0</td>\n",
       "      <td>0</td>\n",
       "      <td>0</td>\n",
       "      <td>1</td>\n",
       "      <td>0</td>\n",
       "      <td>1</td>\n",
       "      <td>0</td>\n",
       "      <td>0</td>\n",
       "      <td>1</td>\n",
       "    </tr>\n",
       "    <tr>\n",
       "      <th>3</th>\n",
       "      <td>5568</td>\n",
       "      <td>2142.0</td>\n",
       "      <td>175.0</td>\n",
       "      <td>360.0</td>\n",
       "      <td>1.0</td>\n",
       "      <td>0</td>\n",
       "      <td>1</td>\n",
       "      <td>1</td>\n",
       "      <td>0</td>\n",
       "      <td>0</td>\n",
       "      <td>1</td>\n",
       "      <td>0</td>\n",
       "      <td>0</td>\n",
       "      <td>0</td>\n",
       "      <td>0</td>\n",
       "      <td>1</td>\n",
       "      <td>1</td>\n",
       "      <td>0</td>\n",
       "      <td>1</td>\n",
       "      <td>0</td>\n",
       "    </tr>\n",
       "    <tr>\n",
       "      <th>4</th>\n",
       "      <td>4124</td>\n",
       "      <td>0.0</td>\n",
       "      <td>115.0</td>\n",
       "      <td>360.0</td>\n",
       "      <td>1.0</td>\n",
       "      <td>1</td>\n",
       "      <td>0</td>\n",
       "      <td>0</td>\n",
       "      <td>1</td>\n",
       "      <td>0</td>\n",
       "      <td>1</td>\n",
       "      <td>0</td>\n",
       "      <td>0</td>\n",
       "      <td>0</td>\n",
       "      <td>1</td>\n",
       "      <td>0</td>\n",
       "      <td>1</td>\n",
       "      <td>0</td>\n",
       "      <td>1</td>\n",
       "      <td>0</td>\n",
       "    </tr>\n",
       "  </tbody>\n",
       "</table>\n",
       "</div>"
      ],
      "text/plain": [
       "   ApplicantIncome  CoapplicantIncome  LoanAmount  Loan_Amount_Term  \\\n",
       "0             4350                0.0       154.0             360.0   \n",
       "1             3315                0.0        96.0             360.0   \n",
       "2             1963                0.0        53.0             360.0   \n",
       "3             5568             2142.0       175.0             360.0   \n",
       "4             4124                0.0       115.0             360.0   \n",
       "\n",
       "   Credit_History  Married_No  Married_Yes  Property_Area_Rural  \\\n",
       "0             1.0           1            0                    1   \n",
       "1             1.0           0            1                    0   \n",
       "2             1.0           1            0                    0   \n",
       "3             1.0           0            1                    1   \n",
       "4             1.0           1            0                    0   \n",
       "\n",
       "   Property_Area_Semiurban  Property_Area_Urban  Dependents_0  Dependents_1  \\\n",
       "0                        0                    0             1             0   \n",
       "1                        1                    0             0             1   \n",
       "2                        1                    0             1             0   \n",
       "3                        0                    0             1             0   \n",
       "4                        1                    0             1             0   \n",
       "\n",
       "   Dependents_2  Dependents_3+  Gender_Female  Gender_Male  Self_Employed_No  \\\n",
       "0             0              0              1            0                 1   \n",
       "1             0              0              0            1                 1   \n",
       "2             0              0              1            0                 1   \n",
       "3             0              0              0            1                 1   \n",
       "4             0              0              1            0                 1   \n",
       "\n",
       "   Self_Employed_Yes  Education_Graduate  Education_Not Graduate  \n",
       "0                  0                   0                       1  \n",
       "1                  0                   1                       0  \n",
       "2                  0                   0                       1  \n",
       "3                  0                   1                       0  \n",
       "4                  0                   1                       0  "
      ]
     },
     "execution_count": 30,
     "metadata": {},
     "output_type": "execute_result"
    }
   ],
   "source": [
    "## view the training features\n",
    "X_train.head()"
   ]
  },
  {
   "cell_type": "markdown",
   "id": "ab8cb075",
   "metadata": {},
   "source": [
    "#####  4: Create a pipeline with a min-max scaler and a KNN classifier (see section 15.3 in the Machine Learning with Python Cookbook)."
   ]
  },
  {
   "cell_type": "code",
   "execution_count": 31,
   "id": "6815396f",
   "metadata": {},
   "outputs": [],
   "source": [
    "## Loading required libraries\n",
    "from sklearn.neighbors import KNeighborsClassifier\n",
    "from sklearn import datasets\n",
    "from sklearn.preprocessing import StandardScaler\n",
    "from sklearn.pipeline import Pipeline, FeatureUnion\n",
    "from sklearn.model_selection import GridSearchCV\n",
    "from sklearn import preprocessing"
   ]
  },
  {
   "cell_type": "code",
   "execution_count": 32,
   "id": "8c9bf3c6",
   "metadata": {},
   "outputs": [],
   "source": [
    "## Create minmax scaler\n",
    "minmax_scale = preprocessing.MinMaxScaler(feature_range=(0,1))"
   ]
  },
  {
   "cell_type": "code",
   "execution_count": 33,
   "id": "7c7ecaa7",
   "metadata": {},
   "outputs": [],
   "source": [
    "## Create KNN Classifier\n",
    "knn = KNeighborsClassifier(n_neighbors=5, n_jobs=-1)"
   ]
  },
  {
   "cell_type": "code",
   "execution_count": 34,
   "id": "3bc95a4e",
   "metadata": {},
   "outputs": [],
   "source": [
    "## Create pipeline\n",
    "pipe= Pipeline([(\"scaler\", minmax_scale), (\"knn\", knn)])"
   ]
  },
  {
   "cell_type": "markdown",
   "id": "15237df2",
   "metadata": {},
   "source": [
    "##### 5. Fit a default KNN classifier to the data with this pipeline. Report the model accuracy on the test set. Note: Fitting a pipeline model works just like fitting a regular model."
   ]
  },
  {
   "cell_type": "code",
   "execution_count": 35,
   "id": "42d96880",
   "metadata": {},
   "outputs": [
    {
     "data": {
      "text/plain": [
       "Pipeline(steps=[('scaler', MinMaxScaler()),\n",
       "                ('knn', KNeighborsClassifier(n_jobs=-1))])"
      ]
     },
     "execution_count": 35,
     "metadata": {},
     "output_type": "execute_result"
    }
   ],
   "source": [
    "## Fit a default KNN classifier to the data with the pipeline\n",
    "pipe.fit(X_train, y_train) "
   ]
  },
  {
   "cell_type": "code",
   "execution_count": 36,
   "id": "5784344a",
   "metadata": {},
   "outputs": [
    {
     "data": {
      "text/plain": [
       "array([1, 1, 1, 1, 1, 1, 1, 1, 1, 0, 1, 0, 1, 1, 1, 1, 1, 1, 1, 1, 0, 1,\n",
       "       1, 1, 1, 1, 0, 1, 1, 1, 1, 0, 1, 1, 1, 1, 1, 1, 1, 1, 1, 1, 1, 1,\n",
       "       1, 1, 1, 1, 0, 1, 1, 1, 1, 1, 0, 1, 1, 0, 1, 1, 1, 1, 1, 1, 1, 1,\n",
       "       0, 0, 1, 1, 1, 1, 1, 1, 1, 1, 0, 1, 0, 1, 1, 1, 1, 1, 1, 0, 1, 1,\n",
       "       1, 1, 0, 1, 1, 1, 1, 1], dtype=int64)"
      ]
     },
     "execution_count": 36,
     "metadata": {},
     "output_type": "execute_result"
    }
   ],
   "source": [
    "## Predict Output\n",
    "y_pred = pipe.predict(X_test)\n",
    "y_pred"
   ]
  },
  {
   "cell_type": "code",
   "execution_count": 37,
   "id": "9dad9409",
   "metadata": {},
   "outputs": [
    {
     "data": {
      "text/plain": [
       "0.7083333333333334"
      ]
     },
     "execution_count": 37,
     "metadata": {},
     "output_type": "execute_result"
    }
   ],
   "source": [
    "## Report model accuracy on the test set\n",
    "pipe.score(X_test,y_test)"
   ]
  },
  {
   "cell_type": "markdown",
   "id": "245666cf",
   "metadata": {},
   "source": [
    "##### 6. Create a search space for your KNN classifier where your “n_neighbors” parameter varies from 1 to 10. (see section 15.3 in the Machine Learning with Python Cookbook)"
   ]
  },
  {
   "cell_type": "code",
   "execution_count": 47,
   "id": "272e57bc",
   "metadata": {},
   "outputs": [],
   "source": [
    "## Create space of candidate values\n",
    "search_space = [{\"knn__n_neighbors\": [1, 2, 3, 4, 5, 6, 7, 8, 9, 10]}]"
   ]
  },
  {
   "cell_type": "markdown",
   "id": "7510ba4d",
   "metadata": {},
   "source": [
    "##### 7. Fit a grid search with your pipeline, search space, and 5-fold cross-validation to find the best value for the “n_neighbors” parameter."
   ]
  },
  {
   "cell_type": "code",
   "execution_count": 48,
   "id": "b4352441",
   "metadata": {},
   "outputs": [],
   "source": [
    "## Create standardizer\n",
    "standardizer = StandardScaler()"
   ]
  },
  {
   "cell_type": "code",
   "execution_count": 49,
   "id": "a75d233c",
   "metadata": {},
   "outputs": [],
   "source": [
    "## Standardize features\n",
    "X_standardized = standardizer.fit_transform(X)"
   ]
  },
  {
   "cell_type": "code",
   "execution_count": 50,
   "id": "5c055302",
   "metadata": {},
   "outputs": [],
   "source": [
    "## Create grid search\n",
    "classifier = GridSearchCV(pipe, search_space, cv=5, verbose=0).fit(X_standardized, y)"
   ]
  },
  {
   "cell_type": "code",
   "execution_count": 52,
   "id": "e080ac19",
   "metadata": {},
   "outputs": [
    {
     "data": {
      "text/plain": [
       "3"
      ]
     },
     "execution_count": 52,
     "metadata": {},
     "output_type": "execute_result"
    }
   ],
   "source": [
    "## Best neighborhood size (k)\n",
    "classifier.best_estimator_.get_params()[\"knn__n_neighbors\"]"
   ]
  },
  {
   "cell_type": "markdown",
   "id": "3103a720",
   "metadata": {},
   "source": [
    "##### 8. Find the accuracy of the grid search best model on the test set. Note: It is possible that this will not be an improvement over the default model, but likely it will be."
   ]
  },
  {
   "cell_type": "code",
   "execution_count": 58,
   "id": "1076f07f",
   "metadata": {},
   "outputs": [
    {
     "name": "stdout",
     "output_type": "stream",
     "text": [
      "KNN tuned hpyerparameters: {'knn__n_neighbors': 3}\n",
      "KNN accuracy: 0.7229166666666667\n",
      "KNN Accuracy percentage: 72.29%\n"
     ]
    }
   ],
   "source": [
    "print(\"KNN tuned hpyerparameters: {}\".format(classifier.best_params_))\n",
    "print(\"KNN accuracy: {}\".format(classifier.best_score_))\n",
    "print(\"KNN Accuracy percentage: {:.2f}%\".format(classifier.best_score_*100))"
   ]
  },
  {
   "cell_type": "markdown",
   "id": "fda2a143",
   "metadata": {},
   "source": [
    "#### 9. Now, repeat steps 6 and 7 with the same pipeline, but expand your search space to include logistic regression and random forest models with the hyperparameter values in section 12.3 of the Machine Learning with Python Cookbook."
   ]
  },
  {
   "cell_type": "code",
   "execution_count": 60,
   "id": "1e8bb942",
   "metadata": {},
   "outputs": [],
   "source": [
    "## Re-create pipeline with KNN hyperparameters\n",
    "pipe= Pipeline([('standardizer', StandardScaler()), (\"classifier\", KNeighborsClassifier(n_neighbors=5, n_jobs=-1))])"
   ]
  },
  {
   "cell_type": "code",
   "execution_count": 61,
   "id": "8e6904fe",
   "metadata": {},
   "outputs": [],
   "source": [
    "## Expand search_space to include logistic regression and random forest models\n",
    "## Create dictionary with candidate learning algorithms and their hyperparameters\n",
    "search_space=[\n",
    "    {'classifier' : [KNeighborsClassifier()], \n",
    "     'classifier__n_neighbors' : [1,2,3,4,5,6,7,8,9,10]},\n",
    "    {'classifier' : [LogisticRegression()],\n",
    "     'classifier__penalty' : ['l1', 'l2'],\n",
    "    'classifier__C' : np.logspace(0, 4, 10),\n",
    "    'classifier__solver' : ['liblinear']},\n",
    "    {'classifier' : [RandomForestClassifier()],\n",
    "    'classifier__n_estimators' : [10,100,1000],\n",
    "    'classifier__max_features' : [1, 2, 3]}\n",
    "]"
   ]
  },
  {
   "cell_type": "code",
   "execution_count": 62,
   "id": "f9a8c263",
   "metadata": {},
   "outputs": [],
   "source": [
    "## Create grid search\n",
    "gridsearch=GridSearchCV(pipe, search_space, cv = 5, verbose=0)"
   ]
  },
  {
   "cell_type": "code",
   "execution_count": 63,
   "id": "8c681125",
   "metadata": {},
   "outputs": [],
   "source": [
    "## Fit grid search\n",
    "best_model=gridsearch.fit(X_train, y_train)"
   ]
  },
  {
   "cell_type": "markdown",
   "id": "2bb08a8b",
   "metadata": {},
   "source": [
    "###### 10. What are the best model and hyperparameters found in the grid search? Find the accuracy of this model on the test set."
   ]
  },
  {
   "cell_type": "code",
   "execution_count": 64,
   "id": "04f18d7f",
   "metadata": {},
   "outputs": [
    {
     "data": {
      "text/plain": [
       "{'memory': None,\n",
       " 'steps': [('standardizer', StandardScaler()),\n",
       "  ('classifier', LogisticRegression(solver='liblinear'))],\n",
       " 'verbose': False,\n",
       " 'standardizer': StandardScaler(),\n",
       " 'classifier': LogisticRegression(solver='liblinear'),\n",
       " 'standardizer__copy': True,\n",
       " 'standardizer__with_mean': True,\n",
       " 'standardizer__with_std': True,\n",
       " 'classifier__C': 1.0,\n",
       " 'classifier__class_weight': None,\n",
       " 'classifier__dual': False,\n",
       " 'classifier__fit_intercept': True,\n",
       " 'classifier__intercept_scaling': 1,\n",
       " 'classifier__l1_ratio': None,\n",
       " 'classifier__max_iter': 100,\n",
       " 'classifier__multi_class': 'auto',\n",
       " 'classifier__n_jobs': None,\n",
       " 'classifier__penalty': 'l2',\n",
       " 'classifier__random_state': None,\n",
       " 'classifier__solver': 'liblinear',\n",
       " 'classifier__tol': 0.0001,\n",
       " 'classifier__verbose': 0,\n",
       " 'classifier__warm_start': False}"
      ]
     },
     "execution_count": 64,
     "metadata": {},
     "output_type": "execute_result"
    }
   ],
   "source": [
    "## Best neighborhood size (k)\n",
    "best_model.best_estimator_.get_params()\n",
    "## The best model is the Logistic Regression Model with the hyperparameters listed below"
   ]
  },
  {
   "cell_type": "code",
   "execution_count": 65,
   "id": "1ed74435",
   "metadata": {},
   "outputs": [],
   "source": [
    "# Fit grid search\n",
    "best_model=gridsearch.fit(X_test, y_test)"
   ]
  },
  {
   "cell_type": "code",
   "execution_count": 67,
   "id": "b7054dfe",
   "metadata": {},
   "outputs": [
    {
     "name": "stdout",
     "output_type": "stream",
     "text": [
      "Best Model accuracy: 0.7494736842105263\n",
      "Best Model Accuracy percentage: 74.95%\n"
     ]
    }
   ],
   "source": [
    "print(\"Best Model accuracy:\",best_model.best_score_)\n",
    "print(\"Best Model Accuracy percentage: {:.2f}%\".format(best_model.best_score_*100))"
   ]
  },
  {
   "cell_type": "markdown",
   "id": "f2396c2c",
   "metadata": {},
   "source": [
    "##### 11. Summarize your results."
   ]
  },
  {
   "cell_type": "markdown",
   "id": "dc39774a",
   "metadata": {},
   "source": [
    "<b>The Logistic Regression with the hyperparameters above is the best model to use for this dataset.</b>"
   ]
  },
  {
   "cell_type": "code",
   "execution_count": null,
   "id": "051ecb5a",
   "metadata": {},
   "outputs": [],
   "source": []
  }
 ],
 "metadata": {
  "kernelspec": {
   "display_name": "Python 3",
   "language": "python",
   "name": "python3"
  },
  "language_info": {
   "codemirror_mode": {
    "name": "ipython",
    "version": 3
   },
   "file_extension": ".py",
   "mimetype": "text/x-python",
   "name": "python",
   "nbconvert_exporter": "python",
   "pygments_lexer": "ipython3",
   "version": "3.8.8"
  }
 },
 "nbformat": 4,
 "nbformat_minor": 5
}
